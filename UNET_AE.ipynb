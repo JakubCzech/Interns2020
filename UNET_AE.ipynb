{
  "nbformat": 4,
  "nbformat_minor": 0,
  "metadata": {
    "colab": {
      "name": "UNET_AE.ipynb",
      "provenance": [],
      "collapsed_sections": [],
      "mount_file_id": "1y-uCaRy2gIfxqfiuUXpihKvWnR5kV6E4",
      "authorship_tag": "ABX9TyPNnqUjvxzUWiwJXOsfbCF9",
      "include_colab_link": true
    },
    "kernelspec": {
      "name": "python3",
      "display_name": "Python 3"
    },
    "accelerator": "GPU"
  },
  "cells": [
    {
      "cell_type": "markdown",
      "metadata": {
        "id": "view-in-github",
        "colab_type": "text"
      },
      "source": [
        "<a href=\"https://colab.research.google.com/github/JakubCzech/Interns2020/blob/master/UNET_AE.ipynb\" target=\"_parent\"><img src=\"https://colab.research.google.com/assets/colab-badge.svg\" alt=\"Open In Colab\"/></a>"
      ]
    },
    {
      "cell_type": "code",
      "metadata": {
        "id": "GFyRyrG4-NOa",
        "colab_type": "code",
        "colab": {
          "base_uri": "https://localhost:8080/",
          "height": 1000
        },
        "outputId": "9a036edc-d5e4-44b9-d04b-7270e3336aaf"
      },
      "source": [
        "import numpy as np\n",
        "import random\n",
        "import cv2\n",
        "import os\n",
        "\n",
        "def sp_noise(image, prob):\n",
        "    output = np.zeros(image.shape, np.uint8)\n",
        "    thres = 1 - prob\n",
        "    for i in range(image.shape[0]):\n",
        "        for j in range(image.shape[1]):\n",
        "            rdn = random.random()\n",
        "            if rdn < prob:\n",
        "                output[i][j] = 0\n",
        "            elif rdn > thres:\n",
        "                output[i][j] = 255\n",
        "            else:\n",
        "                output[i][j] = image[i][j]\n",
        "    return output\n",
        "\n",
        "counter = 0\n",
        "directory = r'/content/drive/My Drive/Interns/dataset/img'\n",
        "for filename in os.listdir(directory):\n",
        "    if filename.endswith(\".jpg\"):\n",
        "        print(os.path.join(directory, filename))\n",
        "        image = cv2.imread(os.path.join(directory, filename), 0)  # Only for grayscale image\n",
        "        noise_img = sp_noise(image, 0.05)\n",
        "        cv2.imwrite('/content/drive/My Drive/Interns/dataset/noised/'+ str(counter) +'.jpg', noise_img)\n",
        "        cv2.imwrite('/content/drive/My Drive/Interns/dataset/clean/'+ str(counter) + '.jpg', image)\n",
        "    else:\n",
        "        continue\n",
        "    counter += 1\n",
        "print(counter)\n",
        "\n",
        "#source https://stackoverflow.com/questions/22937589/how-to-add-noise-gaussian-salt-and-pepper-etc-to-image-in-python-with-opencv"
      ],
      "execution_count": null,
      "outputs": [
        {
          "output_type": "stream",
          "text": [
            "/content/drive/My Drive/Interns/dataset/img/11_32.jpg\n",
            "/content/drive/My Drive/Interns/dataset/img/3_32.jpg\n",
            "/content/drive/My Drive/Interns/dataset/img/7_32.jpg\n",
            "/content/drive/My Drive/Interns/dataset/img/9_32.jpg\n",
            "/content/drive/My Drive/Interns/dataset/img/8_32.jpg\n",
            "/content/drive/My Drive/Interns/dataset/img/5_32.jpg\n",
            "/content/drive/My Drive/Interns/dataset/img/6_32.jpg\n",
            "/content/drive/My Drive/Interns/dataset/img/10_32.jpg\n",
            "/content/drive/My Drive/Interns/dataset/img/4_32.jpg\n",
            "/content/drive/My Drive/Interns/dataset/img/2_32.jpg\n",
            "/content/drive/My Drive/Interns/dataset/img/21_32.jpg\n",
            "/content/drive/My Drive/Interns/dataset/img/13_32.jpg\n",
            "/content/drive/My Drive/Interns/dataset/img/17_32.jpg\n",
            "/content/drive/My Drive/Interns/dataset/img/18_32.jpg\n",
            "/content/drive/My Drive/Interns/dataset/img/20_32.jpg\n",
            "/content/drive/My Drive/Interns/dataset/img/16_32.jpg\n",
            "/content/drive/My Drive/Interns/dataset/img/19_32.jpg\n",
            "/content/drive/My Drive/Interns/dataset/img/14_32.jpg\n",
            "/content/drive/My Drive/Interns/dataset/img/15_32.jpg\n",
            "/content/drive/My Drive/Interns/dataset/img/12_32.jpg\n",
            "/content/drive/My Drive/Interns/dataset/img/40_32.jpg\n",
            "/content/drive/My Drive/Interns/dataset/img/37_32.jpg\n",
            "/content/drive/My Drive/Interns/dataset/img/41_32.jpg\n",
            "/content/drive/My Drive/Interns/dataset/img/39_32.jpg\n",
            "/content/drive/My Drive/Interns/dataset/img/38_32.jpg\n",
            "/content/drive/My Drive/Interns/dataset/img/36_32.jpg\n",
            "/content/drive/My Drive/Interns/dataset/img/35_32.jpg\n",
            "/content/drive/My Drive/Interns/dataset/img/33_32.jpg\n",
            "/content/drive/My Drive/Interns/dataset/img/34_32.jpg\n",
            "/content/drive/My Drive/Interns/dataset/img/32_32.jpg\n",
            "/content/drive/My Drive/Interns/dataset/img/25_32.jpg\n",
            "/content/drive/My Drive/Interns/dataset/img/31_32.jpg\n",
            "/content/drive/My Drive/Interns/dataset/img/23_32.jpg\n",
            "/content/drive/My Drive/Interns/dataset/img/30_32.jpg\n",
            "/content/drive/My Drive/Interns/dataset/img/24_32.jpg\n",
            "/content/drive/My Drive/Interns/dataset/img/29_32.jpg\n",
            "/content/drive/My Drive/Interns/dataset/img/28_32.jpg\n",
            "/content/drive/My Drive/Interns/dataset/img/27_32.jpg\n",
            "/content/drive/My Drive/Interns/dataset/img/26_32.jpg\n",
            "/content/drive/My Drive/Interns/dataset/img/22_32.jpg\n",
            "/content/drive/My Drive/Interns/dataset/img/55_32.jpg\n",
            "/content/drive/My Drive/Interns/dataset/img/56_32.jpg\n",
            "/content/drive/My Drive/Interns/dataset/img/58_32.jpg\n",
            "/content/drive/My Drive/Interns/dataset/img/60_32.jpg\n",
            "/content/drive/My Drive/Interns/dataset/img/61_32.jpg\n",
            "/content/drive/My Drive/Interns/dataset/img/59_32.jpg\n",
            "/content/drive/My Drive/Interns/dataset/img/57_32.jpg\n",
            "/content/drive/My Drive/Interns/dataset/img/53_32.jpg\n",
            "/content/drive/My Drive/Interns/dataset/img/54_32.jpg\n",
            "/content/drive/My Drive/Interns/dataset/img/52_32.jpg\n",
            "/content/drive/My Drive/Interns/dataset/img/45_32.jpg\n",
            "/content/drive/My Drive/Interns/dataset/img/51_32.jpg\n",
            "/content/drive/My Drive/Interns/dataset/img/50_32.jpg\n",
            "/content/drive/My Drive/Interns/dataset/img/43_32.jpg\n",
            "/content/drive/My Drive/Interns/dataset/img/49_32.jpg\n",
            "/content/drive/My Drive/Interns/dataset/img/48_32.jpg\n",
            "/content/drive/My Drive/Interns/dataset/img/47_32.jpg\n",
            "/content/drive/My Drive/Interns/dataset/img/46_32.jpg\n",
            "/content/drive/My Drive/Interns/dataset/img/44_32.jpg\n",
            "/content/drive/My Drive/Interns/dataset/img/42_32.jpg\n",
            "/content/drive/My Drive/Interns/dataset/img/75_32.jpg\n",
            "/content/drive/My Drive/Interns/dataset/img/78_32.jpg\n",
            "/content/drive/My Drive/Interns/dataset/img/74_32.jpg\n",
            "/content/drive/My Drive/Interns/dataset/img/80_32.jpg\n",
            "/content/drive/My Drive/Interns/dataset/img/79_32.jpg\n",
            "/content/drive/My Drive/Interns/dataset/img/81_32.jpg\n",
            "/content/drive/My Drive/Interns/dataset/img/76_32.jpg\n",
            "/content/drive/My Drive/Interns/dataset/img/73_32.jpg\n",
            "/content/drive/My Drive/Interns/dataset/img/77_32.jpg\n",
            "/content/drive/My Drive/Interns/dataset/img/72_32.jpg\n",
            "/content/drive/My Drive/Interns/dataset/img/69_32.jpg\n",
            "/content/drive/My Drive/Interns/dataset/img/64_32.jpg\n",
            "/content/drive/My Drive/Interns/dataset/img/65_32.jpg\n",
            "/content/drive/My Drive/Interns/dataset/img/63_32.jpg\n",
            "/content/drive/My Drive/Interns/dataset/img/71_32.jpg\n",
            "/content/drive/My Drive/Interns/dataset/img/68_32.jpg\n",
            "/content/drive/My Drive/Interns/dataset/img/66_32.jpg\n",
            "/content/drive/My Drive/Interns/dataset/img/70_32.jpg\n",
            "/content/drive/My Drive/Interns/dataset/img/67_32.jpg\n",
            "/content/drive/My Drive/Interns/dataset/img/62_32.jpg\n",
            "/content/drive/My Drive/Interns/dataset/img/92_32.jpg\n",
            "/content/drive/My Drive/Interns/dataset/img/83_32.jpg\n",
            "/content/drive/My Drive/Interns/dataset/img/90_32.jpg\n",
            "/content/drive/My Drive/Interns/dataset/img/87_32.jpg\n",
            "/content/drive/My Drive/Interns/dataset/img/86_32.jpg\n",
            "/content/drive/My Drive/Interns/dataset/img/89_32.jpg\n",
            "/content/drive/My Drive/Interns/dataset/img/91_32.jpg\n",
            "/content/drive/My Drive/Interns/dataset/img/88_32.jpg\n",
            "/content/drive/My Drive/Interns/dataset/img/85_32.jpg\n",
            "/content/drive/My Drive/Interns/dataset/img/84_32.jpg\n",
            "/content/drive/My Drive/Interns/dataset/img/82_32.jpg\n",
            "/content/drive/My Drive/Interns/dataset/img/131_32.jpg\n",
            "/content/drive/My Drive/Interns/dataset/img/129_32.jpg\n",
            "/content/drive/My Drive/Interns/dataset/img/126_32.jpg\n",
            "/content/drive/My Drive/Interns/dataset/img/127_32.jpg\n",
            "/content/drive/My Drive/Interns/dataset/img/124_32.jpg\n",
            "/content/drive/My Drive/Interns/dataset/img/128_32.jpg\n",
            "/content/drive/My Drive/Interns/dataset/img/123_32.jpg\n",
            "/content/drive/My Drive/Interns/dataset/img/130_32.jpg\n",
            "/content/drive/My Drive/Interns/dataset/img/125_32.jpg\n",
            "/content/drive/My Drive/Interns/dataset/img/122_32.jpg\n",
            "/content/drive/My Drive/Interns/dataset/img/121_32.jpg\n",
            "/content/drive/My Drive/Interns/dataset/img/119_32.jpg\n",
            "/content/drive/My Drive/Interns/dataset/img/116_32.jpg\n",
            "/content/drive/My Drive/Interns/dataset/img/120_32.jpg\n",
            "/content/drive/My Drive/Interns/dataset/img/114_32.jpg\n",
            "/content/drive/My Drive/Interns/dataset/img/118_32.jpg\n",
            "/content/drive/My Drive/Interns/dataset/img/115_32.jpg\n",
            "/content/drive/My Drive/Interns/dataset/img/113_32.jpg\n",
            "/content/drive/My Drive/Interns/dataset/img/117_32.jpg\n",
            "/content/drive/My Drive/Interns/dataset/img/112_32.jpg\n",
            "/content/drive/My Drive/Interns/dataset/img/111_32.jpg\n",
            "/content/drive/My Drive/Interns/dataset/img/103_32.jpg\n",
            "/content/drive/My Drive/Interns/dataset/img/104_32.jpg\n",
            "/content/drive/My Drive/Interns/dataset/img/105_32.jpg\n",
            "/content/drive/My Drive/Interns/dataset/img/109_32.jpg\n",
            "/content/drive/My Drive/Interns/dataset/img/108_32.jpg\n",
            "/content/drive/My Drive/Interns/dataset/img/107_32.jpg\n",
            "/content/drive/My Drive/Interns/dataset/img/106_32.jpg\n",
            "/content/drive/My Drive/Interns/dataset/img/110_32.jpg\n",
            "/content/drive/My Drive/Interns/dataset/img/102_32.jpg\n",
            "/content/drive/My Drive/Interns/dataset/img/97_32.jpg\n",
            "/content/drive/My Drive/Interns/dataset/img/98_32.jpg\n",
            "/content/drive/My Drive/Interns/dataset/img/94_32.jpg\n",
            "/content/drive/My Drive/Interns/dataset/img/99_32.jpg\n",
            "/content/drive/My Drive/Interns/dataset/img/95_32.jpg\n",
            "/content/drive/My Drive/Interns/dataset/img/93_32.jpg\n",
            "/content/drive/My Drive/Interns/dataset/img/96_32.jpg\n",
            "/content/drive/My Drive/Interns/dataset/img/100_32.jpg\n",
            "/content/drive/My Drive/Interns/dataset/img/101_32.jpg\n",
            "/content/drive/My Drive/Interns/dataset/img/152_32.jpg\n",
            "/content/drive/My Drive/Interns/dataset/img/151_32.jpg\n",
            "/content/drive/My Drive/Interns/dataset/img/148_32.jpg\n",
            "/content/drive/My Drive/Interns/dataset/img/144_32.jpg\n",
            "/content/drive/My Drive/Interns/dataset/img/150_32.jpg\n",
            "/content/drive/My Drive/Interns/dataset/img/143_32.jpg\n",
            "/content/drive/My Drive/Interns/dataset/img/149_32.jpg\n",
            "/content/drive/My Drive/Interns/dataset/img/147_32.jpg\n",
            "/content/drive/My Drive/Interns/dataset/img/146_32.jpg\n",
            "/content/drive/My Drive/Interns/dataset/img/145_32.jpg\n",
            "/content/drive/My Drive/Interns/dataset/img/142_32.jpg\n",
            "/content/drive/My Drive/Interns/dataset/img/140_32.jpg\n",
            "/content/drive/My Drive/Interns/dataset/img/141_32.jpg\n",
            "/content/drive/My Drive/Interns/dataset/img/134_32.jpg\n",
            "/content/drive/My Drive/Interns/dataset/img/136_32.jpg\n",
            "/content/drive/My Drive/Interns/dataset/img/138_32.jpg\n",
            "/content/drive/My Drive/Interns/dataset/img/133_32.jpg\n",
            "/content/drive/My Drive/Interns/dataset/img/139_32.jpg\n",
            "/content/drive/My Drive/Interns/dataset/img/137_32.jpg\n",
            "/content/drive/My Drive/Interns/dataset/img/135_32.jpg\n",
            "/content/drive/My Drive/Interns/dataset/img/132_32.jpg\n",
            "/content/drive/My Drive/Interns/dataset/img/190_32.jpg\n",
            "/content/drive/My Drive/Interns/dataset/img/183_32.jpg\n",
            "/content/drive/My Drive/Interns/dataset/img/186_32.jpg\n",
            "/content/drive/My Drive/Interns/dataset/img/189_32.jpg\n",
            "/content/drive/My Drive/Interns/dataset/img/188_32.jpg\n",
            "/content/drive/My Drive/Interns/dataset/img/191_32.jpg\n",
            "/content/drive/My Drive/Interns/dataset/img/184_32.jpg\n",
            "/content/drive/My Drive/Interns/dataset/img/185_32.jpg\n",
            "/content/drive/My Drive/Interns/dataset/img/187_32.jpg\n",
            "/content/drive/My Drive/Interns/dataset/img/182_32.jpg\n",
            "/content/drive/My Drive/Interns/dataset/img/180_32.jpg\n",
            "/content/drive/My Drive/Interns/dataset/img/173_32.jpg\n",
            "/content/drive/My Drive/Interns/dataset/img/181_32.jpg\n",
            "/content/drive/My Drive/Interns/dataset/img/176_32.jpg\n",
            "/content/drive/My Drive/Interns/dataset/img/177_32.jpg\n",
            "/content/drive/My Drive/Interns/dataset/img/179_32.jpg\n",
            "/content/drive/My Drive/Interns/dataset/img/174_32.jpg\n",
            "/content/drive/My Drive/Interns/dataset/img/175_32.jpg\n",
            "/content/drive/My Drive/Interns/dataset/img/178_32.jpg\n",
            "/content/drive/My Drive/Interns/dataset/img/172_32.jpg\n",
            "/content/drive/My Drive/Interns/dataset/img/167_32.jpg\n",
            "/content/drive/My Drive/Interns/dataset/img/166_32.jpg\n",
            "/content/drive/My Drive/Interns/dataset/img/164_32.jpg\n",
            "/content/drive/My Drive/Interns/dataset/img/165_32.jpg\n",
            "/content/drive/My Drive/Interns/dataset/img/168_32.jpg\n",
            "/content/drive/My Drive/Interns/dataset/img/169_32.jpg\n",
            "/content/drive/My Drive/Interns/dataset/img/163_32.jpg\n",
            "/content/drive/My Drive/Interns/dataset/img/171_32.jpg\n",
            "/content/drive/My Drive/Interns/dataset/img/170_32.jpg\n",
            "/content/drive/My Drive/Interns/dataset/img/162_32.jpg\n",
            "/content/drive/My Drive/Interns/dataset/img/155_32.jpg\n",
            "/content/drive/My Drive/Interns/dataset/img/159_32.jpg\n",
            "/content/drive/My Drive/Interns/dataset/img/161_32.jpg\n",
            "/content/drive/My Drive/Interns/dataset/img/156_32.jpg\n",
            "/content/drive/My Drive/Interns/dataset/img/160_32.jpg\n",
            "/content/drive/My Drive/Interns/dataset/img/153_32.jpg\n",
            "/content/drive/My Drive/Interns/dataset/img/158_32.jpg\n",
            "/content/drive/My Drive/Interns/dataset/img/157_32.jpg\n",
            "/content/drive/My Drive/Interns/dataset/img/154_32.jpg\n",
            "/content/drive/My Drive/Interns/dataset/img/205_32.jpg\n",
            "/content/drive/My Drive/Interns/dataset/img/207_32.jpg\n",
            "/content/drive/My Drive/Interns/dataset/img/211_32.jpg\n",
            "/content/drive/My Drive/Interns/dataset/img/208_32.jpg\n",
            "/content/drive/My Drive/Interns/dataset/img/206_32.jpg\n",
            "/content/drive/My Drive/Interns/dataset/img/210_32.jpg\n",
            "/content/drive/My Drive/Interns/dataset/img/209_32.jpg\n",
            "/content/drive/My Drive/Interns/dataset/img/203_32.jpg\n",
            "/content/drive/My Drive/Interns/dataset/img/204_32.jpg\n",
            "/content/drive/My Drive/Interns/dataset/img/202_32.jpg\n",
            "/content/drive/My Drive/Interns/dataset/img/198_32.jpg\n",
            "/content/drive/My Drive/Interns/dataset/img/200_32.jpg\n",
            "/content/drive/My Drive/Interns/dataset/img/201_32.jpg\n",
            "/content/drive/My Drive/Interns/dataset/img/194_32.jpg\n",
            "/content/drive/My Drive/Interns/dataset/img/199_32.jpg\n",
            "/content/drive/My Drive/Interns/dataset/img/195_32.jpg\n",
            "/content/drive/My Drive/Interns/dataset/img/197_32.jpg\n",
            "/content/drive/My Drive/Interns/dataset/img/193_32.jpg\n",
            "/content/drive/My Drive/Interns/dataset/img/196_32.jpg\n",
            "/content/drive/My Drive/Interns/dataset/img/192_32.jpg\n",
            "/content/drive/My Drive/Interns/dataset/img/231_32.jpg\n",
            "/content/drive/My Drive/Interns/dataset/img/230_32.jpg\n",
            "/content/drive/My Drive/Interns/dataset/img/225_32.jpg\n",
            "/content/drive/My Drive/Interns/dataset/img/227_32.jpg\n",
            "/content/drive/My Drive/Interns/dataset/img/226_32.jpg\n",
            "/content/drive/My Drive/Interns/dataset/img/223_32.jpg\n",
            "/content/drive/My Drive/Interns/dataset/img/224_32.jpg\n",
            "/content/drive/My Drive/Interns/dataset/img/229_32.jpg\n",
            "/content/drive/My Drive/Interns/dataset/img/228_32.jpg\n",
            "/content/drive/My Drive/Interns/dataset/img/222_32.jpg\n",
            "/content/drive/My Drive/Interns/dataset/img/218_32.jpg\n",
            "/content/drive/My Drive/Interns/dataset/img/213_32.jpg\n",
            "/content/drive/My Drive/Interns/dataset/img/219_32.jpg\n",
            "/content/drive/My Drive/Interns/dataset/img/220_32.jpg\n",
            "/content/drive/My Drive/Interns/dataset/img/214_32.jpg\n",
            "/content/drive/My Drive/Interns/dataset/img/216_32.jpg\n",
            "/content/drive/My Drive/Interns/dataset/img/221_32.jpg\n",
            "/content/drive/My Drive/Interns/dataset/img/215_32.jpg\n",
            "/content/drive/My Drive/Interns/dataset/img/217_32.jpg\n",
            "/content/drive/My Drive/Interns/dataset/img/212_32.jpg\n",
            "/content/drive/My Drive/Interns/dataset/img/262_32.jpg\n",
            "/content/drive/My Drive/Interns/dataset/img/253_32.jpg\n",
            "/content/drive/My Drive/Interns/dataset/img/257_32.jpg\n",
            "/content/drive/My Drive/Interns/dataset/img/259_32.jpg\n",
            "/content/drive/My Drive/Interns/dataset/img/261_32.jpg\n",
            "/content/drive/My Drive/Interns/dataset/img/258_32.jpg\n",
            "/content/drive/My Drive/Interns/dataset/img/256_32.jpg\n",
            "/content/drive/My Drive/Interns/dataset/img/255_32.jpg\n",
            "/content/drive/My Drive/Interns/dataset/img/254_32.jpg\n",
            "/content/drive/My Drive/Interns/dataset/img/260_32.jpg\n",
            "/content/drive/My Drive/Interns/dataset/img/252_32.jpg\n",
            "/content/drive/My Drive/Interns/dataset/img/248_32.jpg\n",
            "/content/drive/My Drive/Interns/dataset/img/245_32.jpg\n",
            "/content/drive/My Drive/Interns/dataset/img/247_32.jpg\n",
            "/content/drive/My Drive/Interns/dataset/img/251_32.jpg\n",
            "/content/drive/My Drive/Interns/dataset/img/249_32.jpg\n",
            "/content/drive/My Drive/Interns/dataset/img/244_32.jpg\n",
            "/content/drive/My Drive/Interns/dataset/img/243_32.jpg\n",
            "/content/drive/My Drive/Interns/dataset/img/250_32.jpg\n",
            "/content/drive/My Drive/Interns/dataset/img/246_32.jpg\n",
            "/content/drive/My Drive/Interns/dataset/img/242_32.jpg\n",
            "/content/drive/My Drive/Interns/dataset/img/235_32.jpg\n",
            "/content/drive/My Drive/Interns/dataset/img/234_32.jpg\n",
            "/content/drive/My Drive/Interns/dataset/img/238_32.jpg\n",
            "/content/drive/My Drive/Interns/dataset/img/236_32.jpg\n",
            "/content/drive/My Drive/Interns/dataset/img/241_32.jpg\n",
            "/content/drive/My Drive/Interns/dataset/img/239_32.jpg\n",
            "/content/drive/My Drive/Interns/dataset/img/240_32.jpg\n",
            "/content/drive/My Drive/Interns/dataset/img/237_32.jpg\n",
            "/content/drive/My Drive/Interns/dataset/img/233_32.jpg\n",
            "/content/drive/My Drive/Interns/dataset/img/232_32.jpg\n",
            "/content/drive/My Drive/Interns/dataset/img/297_32.jpg\n",
            "/content/drive/My Drive/Interns/dataset/img/295_32.jpg\n",
            "/content/drive/My Drive/Interns/dataset/img/301_32.jpg\n",
            "/content/drive/My Drive/Interns/dataset/img/294_32.jpg\n",
            "/content/drive/My Drive/Interns/dataset/img/298_32.jpg\n",
            "/content/drive/My Drive/Interns/dataset/img/300_32.jpg\n",
            "/content/drive/My Drive/Interns/dataset/img/296_32.jpg\n",
            "/content/drive/My Drive/Interns/dataset/img/293_32.jpg\n",
            "/content/drive/My Drive/Interns/dataset/img/299_32.jpg\n",
            "/content/drive/My Drive/Interns/dataset/img/292_32.jpg\n",
            "/content/drive/My Drive/Interns/dataset/img/291_32.jpg\n",
            "/content/drive/My Drive/Interns/dataset/img/284_32.jpg\n",
            "/content/drive/My Drive/Interns/dataset/img/285_32.jpg\n",
            "/content/drive/My Drive/Interns/dataset/img/283_32.jpg\n",
            "/content/drive/My Drive/Interns/dataset/img/288_32.jpg\n",
            "/content/drive/My Drive/Interns/dataset/img/287_32.jpg\n",
            "/content/drive/My Drive/Interns/dataset/img/286_32.jpg\n",
            "/content/drive/My Drive/Interns/dataset/img/290_32.jpg\n",
            "/content/drive/My Drive/Interns/dataset/img/289_32.jpg\n",
            "/content/drive/My Drive/Interns/dataset/img/282_32.jpg\n",
            "/content/drive/My Drive/Interns/dataset/img/274_32.jpg\n",
            "/content/drive/My Drive/Interns/dataset/img/276_32.jpg\n",
            "/content/drive/My Drive/Interns/dataset/img/277_32.jpg\n",
            "/content/drive/My Drive/Interns/dataset/img/281_32.jpg\n",
            "/content/drive/My Drive/Interns/dataset/img/280_32.jpg\n",
            "/content/drive/My Drive/Interns/dataset/img/279_32.jpg\n",
            "/content/drive/My Drive/Interns/dataset/img/273_32.jpg\n",
            "/content/drive/My Drive/Interns/dataset/img/275_32.jpg\n",
            "/content/drive/My Drive/Interns/dataset/img/278_32.jpg\n",
            "/content/drive/My Drive/Interns/dataset/img/272_32.jpg\n",
            "/content/drive/My Drive/Interns/dataset/img/270_32.jpg\n",
            "/content/drive/My Drive/Interns/dataset/img/265_32.jpg\n",
            "/content/drive/My Drive/Interns/dataset/img/271_32.jpg\n",
            "/content/drive/My Drive/Interns/dataset/img/267_32.jpg\n",
            "/content/drive/My Drive/Interns/dataset/img/263_32.jpg\n",
            "/content/drive/My Drive/Interns/dataset/img/268_32.jpg\n",
            "/content/drive/My Drive/Interns/dataset/img/269_32.jpg\n",
            "/content/drive/My Drive/Interns/dataset/img/264_32.jpg\n",
            "/content/drive/My Drive/Interns/dataset/img/266_32.jpg\n",
            "/content/drive/My Drive/Interns/dataset/img/318_32.jpg\n",
            "/content/drive/My Drive/Interns/dataset/img/317_32.jpg\n",
            "/content/drive/My Drive/Interns/dataset/img/313_32.jpg\n",
            "/content/drive/My Drive/Interns/dataset/img/321_32.jpg\n",
            "/content/drive/My Drive/Interns/dataset/img/320_32.jpg\n",
            "/content/drive/My Drive/Interns/dataset/img/314_32.jpg\n",
            "/content/drive/My Drive/Interns/dataset/img/319_32.jpg\n",
            "/content/drive/My Drive/Interns/dataset/img/316_32.jpg\n",
            "/content/drive/My Drive/Interns/dataset/img/315_32.jpg\n",
            "/content/drive/My Drive/Interns/dataset/img/306_32.jpg\n",
            "/content/drive/My Drive/Interns/dataset/img/311_32.jpg\n",
            "/content/drive/My Drive/Interns/dataset/img/303_32.jpg\n",
            "/content/drive/My Drive/Interns/dataset/img/307_32.jpg\n",
            "/content/drive/My Drive/Interns/dataset/img/310_32.jpg\n",
            "/content/drive/My Drive/Interns/dataset/img/304_32.jpg\n",
            "/content/drive/My Drive/Interns/dataset/img/309_32.jpg\n",
            "/content/drive/My Drive/Interns/dataset/img/308_32.jpg\n",
            "/content/drive/My Drive/Interns/dataset/img/305_32.jpg\n",
            "/content/drive/My Drive/Interns/dataset/img/302_32.jpg\n",
            "/content/drive/My Drive/Interns/dataset/img/332_32.jpg\n",
            "/content/drive/My Drive/Interns/dataset/img/329_32.jpg\n",
            "/content/drive/My Drive/Interns/dataset/img/325_32.jpg\n",
            "/content/drive/My Drive/Interns/dataset/img/326_32.jpg\n",
            "/content/drive/My Drive/Interns/dataset/img/328_32.jpg\n",
            "/content/drive/My Drive/Interns/dataset/img/331_32.jpg\n",
            "/content/drive/My Drive/Interns/dataset/img/327_32.jpg\n",
            "/content/drive/My Drive/Interns/dataset/img/324_32.jpg\n",
            "/content/drive/My Drive/Interns/dataset/img/330_32.jpg\n",
            "/content/drive/My Drive/Interns/dataset/img/323_32.jpg\n",
            "/content/drive/My Drive/Interns/dataset/img/322_32.jpg\n",
            "/content/drive/My Drive/Interns/dataset/img/364_32.jpg\n",
            "/content/drive/My Drive/Interns/dataset/img/368_32.jpg\n",
            "/content/drive/My Drive/Interns/dataset/img/371_32.jpg\n",
            "/content/drive/My Drive/Interns/dataset/img/370_32.jpg\n",
            "/content/drive/My Drive/Interns/dataset/img/365_32.jpg\n",
            "/content/drive/My Drive/Interns/dataset/img/366_32.jpg\n",
            "/content/drive/My Drive/Interns/dataset/img/363_32.jpg\n",
            "/content/drive/My Drive/Interns/dataset/img/369_32.jpg\n",
            "/content/drive/My Drive/Interns/dataset/img/367_32.jpg\n",
            "/content/drive/My Drive/Interns/dataset/img/362_32.jpg\n",
            "/content/drive/My Drive/Interns/dataset/img/356_32.jpg\n",
            "/content/drive/My Drive/Interns/dataset/img/358_32.jpg\n",
            "/content/drive/My Drive/Interns/dataset/img/359_32.jpg\n",
            "/content/drive/My Drive/Interns/dataset/img/360_32.jpg\n",
            "/content/drive/My Drive/Interns/dataset/img/353_32.jpg\n",
            "/content/drive/My Drive/Interns/dataset/img/361_32.jpg\n",
            "/content/drive/My Drive/Interns/dataset/img/354_32.jpg\n",
            "/content/drive/My Drive/Interns/dataset/img/357_32.jpg\n",
            "/content/drive/My Drive/Interns/dataset/img/355_32.jpg\n",
            "/content/drive/My Drive/Interns/dataset/img/352_32.jpg\n",
            "/content/drive/My Drive/Interns/dataset/img/351_32.jpg\n",
            "/content/drive/My Drive/Interns/dataset/img/347_32.jpg\n",
            "/content/drive/My Drive/Interns/dataset/img/350_32.jpg\n",
            "/content/drive/My Drive/Interns/dataset/img/349_32.jpg\n",
            "/content/drive/My Drive/Interns/dataset/img/343_32.jpg\n",
            "/content/drive/My Drive/Interns/dataset/img/345_32.jpg\n",
            "/content/drive/My Drive/Interns/dataset/img/344_32.jpg\n",
            "/content/drive/My Drive/Interns/dataset/img/348_32.jpg\n",
            "/content/drive/My Drive/Interns/dataset/img/346_32.jpg\n",
            "/content/drive/My Drive/Interns/dataset/img/342_32.jpg\n",
            "/content/drive/My Drive/Interns/dataset/img/335_32.jpg\n",
            "/content/drive/My Drive/Interns/dataset/img/337_32.jpg\n",
            "/content/drive/My Drive/Interns/dataset/img/333_32.jpg\n",
            "/content/drive/My Drive/Interns/dataset/img/341_32.jpg\n",
            "/content/drive/My Drive/Interns/dataset/img/339_32.jpg\n",
            "/content/drive/My Drive/Interns/dataset/img/338_32.jpg\n",
            "/content/drive/My Drive/Interns/dataset/img/336_32.jpg\n",
            "/content/drive/My Drive/Interns/dataset/img/334_32.jpg\n",
            "/content/drive/My Drive/Interns/dataset/img/340_32.jpg\n",
            "/content/drive/My Drive/Interns/dataset/img/389_32.jpg\n",
            "/content/drive/My Drive/Interns/dataset/img/390_32.jpg\n",
            "/content/drive/My Drive/Interns/dataset/img/386_32.jpg\n",
            "/content/drive/My Drive/Interns/dataset/img/391_32.jpg\n",
            "/content/drive/My Drive/Interns/dataset/img/384_32.jpg\n",
            "/content/drive/My Drive/Interns/dataset/img/383_32.jpg\n",
            "/content/drive/My Drive/Interns/dataset/img/387_32.jpg\n",
            "/content/drive/My Drive/Interns/dataset/img/385_32.jpg\n",
            "/content/drive/My Drive/Interns/dataset/img/388_32.jpg\n",
            "/content/drive/My Drive/Interns/dataset/img/382_32.jpg\n",
            "/content/drive/My Drive/Interns/dataset/img/376_32.jpg\n",
            "/content/drive/My Drive/Interns/dataset/img/374_32.jpg\n",
            "/content/drive/My Drive/Interns/dataset/img/375_32.jpg\n",
            "/content/drive/My Drive/Interns/dataset/img/380_32.jpg\n",
            "/content/drive/My Drive/Interns/dataset/img/379_32.jpg\n",
            "/content/drive/My Drive/Interns/dataset/img/378_32.jpg\n",
            "/content/drive/My Drive/Interns/dataset/img/377_32.jpg\n",
            "/content/drive/My Drive/Interns/dataset/img/373_32.jpg\n",
            "/content/drive/My Drive/Interns/dataset/img/381_32.jpg\n",
            "/content/drive/My Drive/Interns/dataset/img/372_32.jpg\n",
            "/content/drive/My Drive/Interns/dataset/img/393_32.jpg\n",
            "/content/drive/My Drive/Interns/dataset/img/396_32.jpg\n",
            "/content/drive/My Drive/Interns/dataset/img/394_32.jpg\n",
            "/content/drive/My Drive/Interns/dataset/img/395_32.jpg\n",
            "/content/drive/My Drive/Interns/dataset/img/398_32.jpg\n",
            "/content/drive/My Drive/Interns/dataset/img/400_32.jpg\n",
            "/content/drive/My Drive/Interns/dataset/img/399_32.jpg\n",
            "/content/drive/My Drive/Interns/dataset/img/1_32.jpg\n",
            "/content/drive/My Drive/Interns/dataset/img/397_32.jpg\n",
            "/content/drive/My Drive/Interns/dataset/img/392_32.jpg\n",
            "399\n"
          ],
          "name": "stdout"
        }
      ]
    },
    {
      "cell_type": "code",
      "metadata": {
        "id": "u0HREF7l_eAB",
        "colab_type": "code",
        "colab": {
          "base_uri": "https://localhost:8080/",
          "height": 1000
        },
        "outputId": "af6485b4-48c0-43a5-f062-e6523723e254"
      },
      "source": [
        "import numpy as np\n",
        "import random\n",
        "import cv2\n",
        "import os\n",
        "\n",
        "def sp_noise(image, prob):\n",
        "    output = np.zeros(image.shape, np.uint8)\n",
        "    thres = 1 - prob\n",
        "    for i in range(image.shape[0]):\n",
        "        for j in range(image.shape[1]):\n",
        "            rdn = random.random()\n",
        "            if rdn < prob:\n",
        "                output[i][j] = 0\n",
        "            elif rdn > thres:\n",
        "                output[i][j] = 255\n",
        "            else:\n",
        "                output[i][j] = image[i][j]\n",
        "    return output\n",
        "\n",
        "counter = 0\n",
        "directory = r'/content/drive/My Drive/Interns/dataset/test_img'\n",
        "for filename in os.listdir(directory):\n",
        "    if filename.endswith(\".jpg\"):\n",
        "        print(os.path.join(directory, filename))\n",
        "        image = cv2.imread(os.path.join(directory, filename), 0)  # Only for grayscale image\n",
        "        noise_img = sp_noise(image, 0.05)\n",
        "        cv2.imwrite('/content/drive/My Drive/Interns/dataset/test_noised/'+ str(counter) +'.jpg', noise_img)\n",
        "        cv2.imwrite('/content/drive/My Drive/Interns/dataset/test_clean/'+ str(counter) + '.jpg', image)\n",
        "    else:\n",
        "        continue\n",
        "    counter += 1\n",
        "print(counter)\n",
        "\n",
        "#source https://stackoverflow.com/questions/22937589/how-to-add-noise-gaussian-salt-and-pepper-etc-to-image-in-python-with-opencv"
      ],
      "execution_count": null,
      "outputs": [
        {
          "output_type": "stream",
          "text": [
            "/content/drive/My Drive/Interns/dataset/test_img/7_32.jpg\n",
            "/content/drive/My Drive/Interns/dataset/test_img/34_32.jpg\n",
            "/content/drive/My Drive/Interns/dataset/test_img/29_32.jpg\n",
            "/content/drive/My Drive/Interns/dataset/test_img/32_32.jpg\n",
            "/content/drive/My Drive/Interns/dataset/test_img/28_32.jpg\n",
            "/content/drive/My Drive/Interns/dataset/test_img/31_32.jpg\n",
            "/content/drive/My Drive/Interns/dataset/test_img/30_32.jpg\n",
            "/content/drive/My Drive/Interns/dataset/test_img/36_32.jpg\n",
            "/content/drive/My Drive/Interns/dataset/test_img/35_32.jpg\n",
            "/content/drive/My Drive/Interns/dataset/test_img/33_32.jpg\n",
            "/content/drive/My Drive/Interns/dataset/test_img/27_32.jpg\n",
            "/content/drive/My Drive/Interns/dataset/test_img/22_32.jpg\n",
            "/content/drive/My Drive/Interns/dataset/test_img/24_32.jpg\n",
            "/content/drive/My Drive/Interns/dataset/test_img/18_32.jpg\n",
            "/content/drive/My Drive/Interns/dataset/test_img/21_32.jpg\n",
            "/content/drive/My Drive/Interns/dataset/test_img/25_32.jpg\n",
            "/content/drive/My Drive/Interns/dataset/test_img/26_32.jpg\n",
            "/content/drive/My Drive/Interns/dataset/test_img/20_32.jpg\n",
            "/content/drive/My Drive/Interns/dataset/test_img/19_32.jpg\n",
            "/content/drive/My Drive/Interns/dataset/test_img/23_32.jpg\n",
            "/content/drive/My Drive/Interns/dataset/test_img/17_32.jpg\n",
            "/content/drive/My Drive/Interns/dataset/test_img/8_32.jpg\n",
            "/content/drive/My Drive/Interns/dataset/test_img/12_32.jpg\n",
            "/content/drive/My Drive/Interns/dataset/test_img/15_32.jpg\n",
            "/content/drive/My Drive/Interns/dataset/test_img/9_32.jpg\n",
            "/content/drive/My Drive/Interns/dataset/test_img/10_32.jpg\n",
            "/content/drive/My Drive/Interns/dataset/test_img/13_32.jpg\n",
            "/content/drive/My Drive/Interns/dataset/test_img/16_32.jpg\n",
            "/content/drive/My Drive/Interns/dataset/test_img/11_32.jpg\n",
            "/content/drive/My Drive/Interns/dataset/test_img/14_32.jpg\n",
            "/content/drive/My Drive/Interns/dataset/test_img/77_32.jpg\n",
            "/content/drive/My Drive/Interns/dataset/test_img/75_32.jpg\n",
            "/content/drive/My Drive/Interns/dataset/test_img/72_32.jpg\n",
            "/content/drive/My Drive/Interns/dataset/test_img/71_32.jpg\n",
            "/content/drive/My Drive/Interns/dataset/test_img/70_32.jpg\n",
            "/content/drive/My Drive/Interns/dataset/test_img/73_32.jpg\n",
            "/content/drive/My Drive/Interns/dataset/test_img/69_32.jpg\n",
            "/content/drive/My Drive/Interns/dataset/test_img/76_32.jpg\n",
            "/content/drive/My Drive/Interns/dataset/test_img/74_32.jpg\n",
            "/content/drive/My Drive/Interns/dataset/test_img/68_32.jpg\n",
            "/content/drive/My Drive/Interns/dataset/test_img/67_32.jpg\n",
            "/content/drive/My Drive/Interns/dataset/test_img/60_32.jpg\n",
            "/content/drive/My Drive/Interns/dataset/test_img/62_32.jpg\n",
            "/content/drive/My Drive/Interns/dataset/test_img/66_32.jpg\n",
            "/content/drive/My Drive/Interns/dataset/test_img/61_32.jpg\n",
            "/content/drive/My Drive/Interns/dataset/test_img/65_32.jpg\n",
            "/content/drive/My Drive/Interns/dataset/test_img/64_32.jpg\n",
            "/content/drive/My Drive/Interns/dataset/test_img/58_32.jpg\n",
            "/content/drive/My Drive/Interns/dataset/test_img/63_32.jpg\n",
            "/content/drive/My Drive/Interns/dataset/test_img/59_32.jpg\n",
            "/content/drive/My Drive/Interns/dataset/test_img/57_32.jpg\n",
            "/content/drive/My Drive/Interns/dataset/test_img/51_32.jpg\n",
            "/content/drive/My Drive/Interns/dataset/test_img/55_32.jpg\n",
            "/content/drive/My Drive/Interns/dataset/test_img/52_32.jpg\n",
            "/content/drive/My Drive/Interns/dataset/test_img/56_32.jpg\n",
            "/content/drive/My Drive/Interns/dataset/test_img/54_32.jpg\n",
            "/content/drive/My Drive/Interns/dataset/test_img/50_32.jpg\n",
            "/content/drive/My Drive/Interns/dataset/test_img/53_32.jpg\n",
            "/content/drive/My Drive/Interns/dataset/test_img/48_32.jpg\n",
            "/content/drive/My Drive/Interns/dataset/test_img/49_32.jpg\n",
            "/content/drive/My Drive/Interns/dataset/test_img/47_32.jpg\n",
            "/content/drive/My Drive/Interns/dataset/test_img/41_32.jpg\n",
            "/content/drive/My Drive/Interns/dataset/test_img/46_32.jpg\n",
            "/content/drive/My Drive/Interns/dataset/test_img/45_32.jpg\n",
            "/content/drive/My Drive/Interns/dataset/test_img/42_32.jpg\n",
            "/content/drive/My Drive/Interns/dataset/test_img/44_32.jpg\n",
            "/content/drive/My Drive/Interns/dataset/test_img/40_32.jpg\n",
            "/content/drive/My Drive/Interns/dataset/test_img/38_32.jpg\n",
            "/content/drive/My Drive/Interns/dataset/test_img/39_32.jpg\n",
            "/content/drive/My Drive/Interns/dataset/test_img/43_32.jpg\n",
            "/content/drive/My Drive/Interns/dataset/test_img/37_32.jpg\n",
            "/content/drive/My Drive/Interns/dataset/test_img/93_32.jpg\n",
            "/content/drive/My Drive/Interns/dataset/test_img/82_32.jpg\n",
            "/content/drive/My Drive/Interns/dataset/test_img/79_32.jpg\n",
            "/content/drive/My Drive/Interns/dataset/test_img/86_32.jpg\n",
            "/content/drive/My Drive/Interns/dataset/test_img/89_32.jpg\n",
            "/content/drive/My Drive/Interns/dataset/test_img/80_32.jpg\n",
            "/content/drive/My Drive/Interns/dataset/test_img/78_32.jpg\n",
            "/content/drive/My Drive/Interns/dataset/test_img/81_32.jpg\n",
            "/content/drive/My Drive/Interns/dataset/test_img/92_32.jpg\n",
            "/content/drive/My Drive/Interns/dataset/test_img/83_32.jpg\n",
            "/content/drive/My Drive/Interns/dataset/test_img/94_32.jpg\n",
            "/content/drive/My Drive/Interns/dataset/test_img/88_32.jpg\n",
            "/content/drive/My Drive/Interns/dataset/test_img/91_32.jpg\n",
            "/content/drive/My Drive/Interns/dataset/test_img/84_32.jpg\n",
            "/content/drive/My Drive/Interns/dataset/test_img/85_32.jpg\n",
            "/content/drive/My Drive/Interns/dataset/test_img/87_32.jpg\n",
            "/content/drive/My Drive/Interns/dataset/test_img/90_32.jpg\n",
            "/content/drive/My Drive/Interns/dataset/test_img/95_32.jpg\n",
            "/content/drive/My Drive/Interns/dataset/test_img/97_32.jpg\n",
            "/content/drive/My Drive/Interns/dataset/test_img/96_32.jpg\n",
            "/content/drive/My Drive/Interns/dataset/test_img/145_32.jpg\n",
            "/content/drive/My Drive/Interns/dataset/test_img/139_32.jpg\n",
            "/content/drive/My Drive/Interns/dataset/test_img/142_32.jpg\n",
            "/content/drive/My Drive/Interns/dataset/test_img/144_32.jpg\n",
            "/content/drive/My Drive/Interns/dataset/test_img/146_32.jpg\n",
            "/content/drive/My Drive/Interns/dataset/test_img/143_32.jpg\n",
            "/content/drive/My Drive/Interns/dataset/test_img/140_32.jpg\n",
            "/content/drive/My Drive/Interns/dataset/test_img/141_32.jpg\n",
            "/content/drive/My Drive/Interns/dataset/test_img/138_32.jpg\n",
            "/content/drive/My Drive/Interns/dataset/test_img/137_32.jpg\n",
            "/content/drive/My Drive/Interns/dataset/test_img/136_32.jpg\n",
            "/content/drive/My Drive/Interns/dataset/test_img/128_32.jpg\n",
            "/content/drive/My Drive/Interns/dataset/test_img/133_32.jpg\n",
            "/content/drive/My Drive/Interns/dataset/test_img/132_32.jpg\n",
            "/content/drive/My Drive/Interns/dataset/test_img/131_32.jpg\n",
            "/content/drive/My Drive/Interns/dataset/test_img/130_32.jpg\n",
            "/content/drive/My Drive/Interns/dataset/test_img/135_32.jpg\n",
            "/content/drive/My Drive/Interns/dataset/test_img/134_32.jpg\n",
            "/content/drive/My Drive/Interns/dataset/test_img/129_32.jpg\n",
            "/content/drive/My Drive/Interns/dataset/test_img/127_32.jpg\n",
            "/content/drive/My Drive/Interns/dataset/test_img/119_32.jpg\n",
            "/content/drive/My Drive/Interns/dataset/test_img/118_32.jpg\n",
            "/content/drive/My Drive/Interns/dataset/test_img/122_32.jpg\n",
            "/content/drive/My Drive/Interns/dataset/test_img/124_32.jpg\n",
            "/content/drive/My Drive/Interns/dataset/test_img/125_32.jpg\n",
            "/content/drive/My Drive/Interns/dataset/test_img/121_32.jpg\n",
            "/content/drive/My Drive/Interns/dataset/test_img/123_32.jpg\n",
            "/content/drive/My Drive/Interns/dataset/test_img/120_32.jpg\n",
            "/content/drive/My Drive/Interns/dataset/test_img/126_32.jpg\n",
            "/content/drive/My Drive/Interns/dataset/test_img/117_32.jpg\n",
            "/content/drive/My Drive/Interns/dataset/test_img/108_32.jpg\n",
            "/content/drive/My Drive/Interns/dataset/test_img/113_32.jpg\n",
            "/content/drive/My Drive/Interns/dataset/test_img/114_32.jpg\n",
            "/content/drive/My Drive/Interns/dataset/test_img/116_32.jpg\n",
            "/content/drive/My Drive/Interns/dataset/test_img/112_32.jpg\n",
            "/content/drive/My Drive/Interns/dataset/test_img/115_32.jpg\n",
            "/content/drive/My Drive/Interns/dataset/test_img/110_32.jpg\n",
            "/content/drive/My Drive/Interns/dataset/test_img/111_32.jpg\n",
            "/content/drive/My Drive/Interns/dataset/test_img/109_32.jpg\n",
            "/content/drive/My Drive/Interns/dataset/test_img/107_32.jpg\n",
            "/content/drive/My Drive/Interns/dataset/test_img/102_32.jpg\n",
            "/content/drive/My Drive/Interns/dataset/test_img/100_32.jpg\n",
            "/content/drive/My Drive/Interns/dataset/test_img/105_32.jpg\n",
            "/content/drive/My Drive/Interns/dataset/test_img/99_32.jpg\n",
            "/content/drive/My Drive/Interns/dataset/test_img/104_32.jpg\n",
            "/content/drive/My Drive/Interns/dataset/test_img/101_32.jpg\n",
            "/content/drive/My Drive/Interns/dataset/test_img/103_32.jpg\n",
            "/content/drive/My Drive/Interns/dataset/test_img/106_32.jpg\n",
            "/content/drive/My Drive/Interns/dataset/test_img/98_32.jpg\n",
            "/content/drive/My Drive/Interns/dataset/test_img/167_32.jpg\n",
            "/content/drive/My Drive/Interns/dataset/test_img/166_32.jpg\n",
            "/content/drive/My Drive/Interns/dataset/test_img/158_32.jpg\n",
            "/content/drive/My Drive/Interns/dataset/test_img/162_32.jpg\n",
            "/content/drive/My Drive/Interns/dataset/test_img/163_32.jpg\n",
            "/content/drive/My Drive/Interns/dataset/test_img/161_32.jpg\n",
            "/content/drive/My Drive/Interns/dataset/test_img/159_32.jpg\n",
            "/content/drive/My Drive/Interns/dataset/test_img/160_32.jpg\n",
            "/content/drive/My Drive/Interns/dataset/test_img/165_32.jpg\n",
            "/content/drive/My Drive/Interns/dataset/test_img/164_32.jpg\n",
            "/content/drive/My Drive/Interns/dataset/test_img/157_32.jpg\n",
            "/content/drive/My Drive/Interns/dataset/test_img/151_32.jpg\n",
            "/content/drive/My Drive/Interns/dataset/test_img/150_32.jpg\n",
            "/content/drive/My Drive/Interns/dataset/test_img/152_32.jpg\n",
            "/content/drive/My Drive/Interns/dataset/test_img/156_32.jpg\n",
            "/content/drive/My Drive/Interns/dataset/test_img/154_32.jpg\n",
            "/content/drive/My Drive/Interns/dataset/test_img/149_32.jpg\n",
            "/content/drive/My Drive/Interns/dataset/test_img/155_32.jpg\n",
            "/content/drive/My Drive/Interns/dataset/test_img/153_32.jpg\n",
            "/content/drive/My Drive/Interns/dataset/test_img/148_32.jpg\n",
            "/content/drive/My Drive/Interns/dataset/test_img/147_32.jpg\n",
            "/content/drive/My Drive/Interns/dataset/test_img/191_32.jpg\n",
            "/content/drive/My Drive/Interns/dataset/test_img/188_32.jpg\n",
            "/content/drive/My Drive/Interns/dataset/test_img/190_32.jpg\n",
            "/content/drive/My Drive/Interns/dataset/test_img/195_32.jpg\n",
            "/content/drive/My Drive/Interns/dataset/test_img/189_32.jpg\n",
            "/content/drive/My Drive/Interns/dataset/test_img/196_32.jpg\n",
            "/content/drive/My Drive/Interns/dataset/test_img/192_32.jpg\n",
            "/content/drive/My Drive/Interns/dataset/test_img/194_32.jpg\n",
            "/content/drive/My Drive/Interns/dataset/test_img/193_32.jpg\n",
            "/content/drive/My Drive/Interns/dataset/test_img/187_32.jpg\n",
            "/content/drive/My Drive/Interns/dataset/test_img/178_32.jpg\n",
            "/content/drive/My Drive/Interns/dataset/test_img/182_32.jpg\n",
            "/content/drive/My Drive/Interns/dataset/test_img/186_32.jpg\n",
            "/content/drive/My Drive/Interns/dataset/test_img/183_32.jpg\n",
            "/content/drive/My Drive/Interns/dataset/test_img/180_32.jpg\n",
            "/content/drive/My Drive/Interns/dataset/test_img/179_32.jpg\n",
            "/content/drive/My Drive/Interns/dataset/test_img/181_32.jpg\n",
            "/content/drive/My Drive/Interns/dataset/test_img/185_32.jpg\n",
            "/content/drive/My Drive/Interns/dataset/test_img/184_32.jpg\n",
            "/content/drive/My Drive/Interns/dataset/test_img/177_32.jpg\n",
            "/content/drive/My Drive/Interns/dataset/test_img/175_32.jpg\n",
            "/content/drive/My Drive/Interns/dataset/test_img/176_32.jpg\n",
            "/content/drive/My Drive/Interns/dataset/test_img/170_32.jpg\n",
            "/content/drive/My Drive/Interns/dataset/test_img/174_32.jpg\n",
            "/content/drive/My Drive/Interns/dataset/test_img/168_32.jpg\n",
            "/content/drive/My Drive/Interns/dataset/test_img/171_32.jpg\n",
            "/content/drive/My Drive/Interns/dataset/test_img/169_32.jpg\n",
            "/content/drive/My Drive/Interns/dataset/test_img/173_32.jpg\n",
            "/content/drive/My Drive/Interns/dataset/test_img/172_32.jpg\n",
            "/content/drive/My Drive/Interns/dataset/test_img/237_32.jpg\n",
            "/content/drive/My Drive/Interns/dataset/test_img/231_32.jpg\n",
            "/content/drive/My Drive/Interns/dataset/test_img/235_32.jpg\n",
            "/content/drive/My Drive/Interns/dataset/test_img/234_32.jpg\n",
            "/content/drive/My Drive/Interns/dataset/test_img/232_32.jpg\n",
            "/content/drive/My Drive/Interns/dataset/test_img/229_32.jpg\n",
            "/content/drive/My Drive/Interns/dataset/test_img/236_32.jpg\n",
            "/content/drive/My Drive/Interns/dataset/test_img/233_32.jpg\n",
            "/content/drive/My Drive/Interns/dataset/test_img/230_32.jpg\n",
            "/content/drive/My Drive/Interns/dataset/test_img/228_32.jpg\n",
            "/content/drive/My Drive/Interns/dataset/test_img/227_32.jpg\n",
            "/content/drive/My Drive/Interns/dataset/test_img/223_32.jpg\n",
            "/content/drive/My Drive/Interns/dataset/test_img/218_32.jpg\n",
            "/content/drive/My Drive/Interns/dataset/test_img/220_32.jpg\n",
            "/content/drive/My Drive/Interns/dataset/test_img/225_32.jpg\n",
            "/content/drive/My Drive/Interns/dataset/test_img/222_32.jpg\n",
            "/content/drive/My Drive/Interns/dataset/test_img/224_32.jpg\n",
            "/content/drive/My Drive/Interns/dataset/test_img/226_32.jpg\n",
            "/content/drive/My Drive/Interns/dataset/test_img/219_32.jpg\n",
            "/content/drive/My Drive/Interns/dataset/test_img/221_32.jpg\n",
            "/content/drive/My Drive/Interns/dataset/test_img/217_32.jpg\n",
            "/content/drive/My Drive/Interns/dataset/test_img/211_32.jpg\n",
            "/content/drive/My Drive/Interns/dataset/test_img/215_32.jpg\n",
            "/content/drive/My Drive/Interns/dataset/test_img/213_32.jpg\n",
            "/content/drive/My Drive/Interns/dataset/test_img/214_32.jpg\n",
            "/content/drive/My Drive/Interns/dataset/test_img/209_32.jpg\n",
            "/content/drive/My Drive/Interns/dataset/test_img/210_32.jpg\n",
            "/content/drive/My Drive/Interns/dataset/test_img/212_32.jpg\n",
            "/content/drive/My Drive/Interns/dataset/test_img/208_32.jpg\n",
            "/content/drive/My Drive/Interns/dataset/test_img/216_32.jpg\n",
            "/content/drive/My Drive/Interns/dataset/test_img/207_32.jpg\n",
            "/content/drive/My Drive/Interns/dataset/test_img/205_32.jpg\n",
            "/content/drive/My Drive/Interns/dataset/test_img/200_32.jpg\n",
            "/content/drive/My Drive/Interns/dataset/test_img/201_32.jpg\n",
            "/content/drive/My Drive/Interns/dataset/test_img/198_32.jpg\n",
            "/content/drive/My Drive/Interns/dataset/test_img/203_32.jpg\n",
            "/content/drive/My Drive/Interns/dataset/test_img/204_32.jpg\n",
            "/content/drive/My Drive/Interns/dataset/test_img/206_32.jpg\n",
            "/content/drive/My Drive/Interns/dataset/test_img/199_32.jpg\n",
            "/content/drive/My Drive/Interns/dataset/test_img/202_32.jpg\n",
            "/content/drive/My Drive/Interns/dataset/test_img/197_32.jpg\n",
            "/content/drive/My Drive/Interns/dataset/test_img/285_32.jpg\n",
            "/content/drive/My Drive/Interns/dataset/test_img/280_32.jpg\n",
            "/content/drive/My Drive/Interns/dataset/test_img/282_32.jpg\n",
            "/content/drive/My Drive/Interns/dataset/test_img/286_32.jpg\n",
            "/content/drive/My Drive/Interns/dataset/test_img/281_32.jpg\n",
            "/content/drive/My Drive/Interns/dataset/test_img/283_32.jpg\n",
            "/content/drive/My Drive/Interns/dataset/test_img/278_32.jpg\n",
            "/content/drive/My Drive/Interns/dataset/test_img/284_32.jpg\n",
            "/content/drive/My Drive/Interns/dataset/test_img/279_32.jpg\n",
            "/content/drive/My Drive/Interns/dataset/test_img/277_32.jpg\n",
            "/content/drive/My Drive/Interns/dataset/test_img/275_32.jpg\n",
            "/content/drive/My Drive/Interns/dataset/test_img/274_32.jpg\n",
            "/content/drive/My Drive/Interns/dataset/test_img/271_32.jpg\n",
            "/content/drive/My Drive/Interns/dataset/test_img/272_32.jpg\n",
            "/content/drive/My Drive/Interns/dataset/test_img/268_32.jpg\n",
            "/content/drive/My Drive/Interns/dataset/test_img/276_32.jpg\n",
            "/content/drive/My Drive/Interns/dataset/test_img/269_32.jpg\n",
            "/content/drive/My Drive/Interns/dataset/test_img/270_32.jpg\n",
            "/content/drive/My Drive/Interns/dataset/test_img/273_32.jpg\n",
            "/content/drive/My Drive/Interns/dataset/test_img/267_32.jpg\n",
            "/content/drive/My Drive/Interns/dataset/test_img/262_32.jpg\n",
            "/content/drive/My Drive/Interns/dataset/test_img/258_32.jpg\n",
            "/content/drive/My Drive/Interns/dataset/test_img/259_32.jpg\n",
            "/content/drive/My Drive/Interns/dataset/test_img/264_32.jpg\n",
            "/content/drive/My Drive/Interns/dataset/test_img/265_32.jpg\n",
            "/content/drive/My Drive/Interns/dataset/test_img/260_32.jpg\n",
            "/content/drive/My Drive/Interns/dataset/test_img/261_32.jpg\n",
            "/content/drive/My Drive/Interns/dataset/test_img/263_32.jpg\n",
            "/content/drive/My Drive/Interns/dataset/test_img/266_32.jpg\n",
            "/content/drive/My Drive/Interns/dataset/test_img/257_32.jpg\n",
            "/content/drive/My Drive/Interns/dataset/test_img/256_32.jpg\n",
            "/content/drive/My Drive/Interns/dataset/test_img/248_32.jpg\n",
            "/content/drive/My Drive/Interns/dataset/test_img/250_32.jpg\n",
            "/content/drive/My Drive/Interns/dataset/test_img/255_32.jpg\n",
            "/content/drive/My Drive/Interns/dataset/test_img/254_32.jpg\n",
            "/content/drive/My Drive/Interns/dataset/test_img/249_32.jpg\n",
            "/content/drive/My Drive/Interns/dataset/test_img/252_32.jpg\n",
            "/content/drive/My Drive/Interns/dataset/test_img/253_32.jpg\n",
            "/content/drive/My Drive/Interns/dataset/test_img/251_32.jpg\n",
            "/content/drive/My Drive/Interns/dataset/test_img/247_32.jpg\n",
            "/content/drive/My Drive/Interns/dataset/test_img/242_32.jpg\n",
            "/content/drive/My Drive/Interns/dataset/test_img/240_32.jpg\n",
            "/content/drive/My Drive/Interns/dataset/test_img/245_32.jpg\n",
            "/content/drive/My Drive/Interns/dataset/test_img/238_32.jpg\n",
            "/content/drive/My Drive/Interns/dataset/test_img/246_32.jpg\n",
            "/content/drive/My Drive/Interns/dataset/test_img/241_32.jpg\n",
            "/content/drive/My Drive/Interns/dataset/test_img/243_32.jpg\n",
            "/content/drive/My Drive/Interns/dataset/test_img/244_32.jpg\n",
            "/content/drive/My Drive/Interns/dataset/test_img/239_32.jpg\n",
            "/content/drive/My Drive/Interns/dataset/test_img/327_32.jpg\n",
            "/content/drive/My Drive/Interns/dataset/test_img/326_32.jpg\n",
            "/content/drive/My Drive/Interns/dataset/test_img/318_32.jpg\n",
            "/content/drive/My Drive/Interns/dataset/test_img/319_32.jpg\n",
            "/content/drive/My Drive/Interns/dataset/test_img/325_32.jpg\n",
            "/content/drive/My Drive/Interns/dataset/test_img/324_32.jpg\n",
            "/content/drive/My Drive/Interns/dataset/test_img/321_32.jpg\n",
            "/content/drive/My Drive/Interns/dataset/test_img/320_32.jpg\n",
            "/content/drive/My Drive/Interns/dataset/test_img/323_32.jpg\n",
            "/content/drive/My Drive/Interns/dataset/test_img/322_32.jpg\n",
            "/content/drive/My Drive/Interns/dataset/test_img/317_32.jpg\n",
            "/content/drive/My Drive/Interns/dataset/test_img/314_32.jpg\n",
            "/content/drive/My Drive/Interns/dataset/test_img/312_32.jpg\n",
            "/content/drive/My Drive/Interns/dataset/test_img/315_32.jpg\n",
            "/content/drive/My Drive/Interns/dataset/test_img/313_32.jpg\n",
            "/content/drive/My Drive/Interns/dataset/test_img/316_32.jpg\n",
            "/content/drive/My Drive/Interns/dataset/test_img/309_32.jpg\n",
            "/content/drive/My Drive/Interns/dataset/test_img/311_32.jpg\n",
            "/content/drive/My Drive/Interns/dataset/test_img/310_32.jpg\n",
            "/content/drive/My Drive/Interns/dataset/test_img/308_32.jpg\n",
            "/content/drive/My Drive/Interns/dataset/test_img/307_32.jpg\n",
            "/content/drive/My Drive/Interns/dataset/test_img/298_32.jpg\n",
            "/content/drive/My Drive/Interns/dataset/test_img/303_32.jpg\n",
            "/content/drive/My Drive/Interns/dataset/test_img/300_32.jpg\n",
            "/content/drive/My Drive/Interns/dataset/test_img/305_32.jpg\n",
            "/content/drive/My Drive/Interns/dataset/test_img/306_32.jpg\n",
            "/content/drive/My Drive/Interns/dataset/test_img/304_32.jpg\n",
            "/content/drive/My Drive/Interns/dataset/test_img/299_32.jpg\n",
            "/content/drive/My Drive/Interns/dataset/test_img/301_32.jpg\n",
            "/content/drive/My Drive/Interns/dataset/test_img/302_32.jpg\n",
            "/content/drive/My Drive/Interns/dataset/test_img/297_32.jpg\n",
            "/content/drive/My Drive/Interns/dataset/test_img/293_32.jpg\n",
            "/content/drive/My Drive/Interns/dataset/test_img/296_32.jpg\n",
            "/content/drive/My Drive/Interns/dataset/test_img/295_32.jpg\n",
            "/content/drive/My Drive/Interns/dataset/test_img/288_32.jpg\n",
            "/content/drive/My Drive/Interns/dataset/test_img/292_32.jpg\n",
            "/content/drive/My Drive/Interns/dataset/test_img/291_32.jpg\n",
            "/content/drive/My Drive/Interns/dataset/test_img/294_32.jpg\n",
            "/content/drive/My Drive/Interns/dataset/test_img/289_32.jpg\n",
            "/content/drive/My Drive/Interns/dataset/test_img/290_32.jpg\n",
            "/content/drive/My Drive/Interns/dataset/test_img/287_32.jpg\n",
            "/content/drive/My Drive/Interns/dataset/test_img/374_32.jpg\n",
            "/content/drive/My Drive/Interns/dataset/test_img/371_32.jpg\n",
            "/content/drive/My Drive/Interns/dataset/test_img/375_32.jpg\n",
            "/content/drive/My Drive/Interns/dataset/test_img/376_32.jpg\n",
            "/content/drive/My Drive/Interns/dataset/test_img/372_32.jpg\n",
            "/content/drive/My Drive/Interns/dataset/test_img/373_32.jpg\n",
            "/content/drive/My Drive/Interns/dataset/test_img/370_32.jpg\n",
            "/content/drive/My Drive/Interns/dataset/test_img/369_32.jpg\n",
            "/content/drive/My Drive/Interns/dataset/test_img/368_32.jpg\n",
            "/content/drive/My Drive/Interns/dataset/test_img/367_32.jpg\n",
            "/content/drive/My Drive/Interns/dataset/test_img/365_32.jpg\n",
            "/content/drive/My Drive/Interns/dataset/test_img/366_32.jpg\n",
            "/content/drive/My Drive/Interns/dataset/test_img/363_32.jpg\n",
            "/content/drive/My Drive/Interns/dataset/test_img/362_32.jpg\n",
            "/content/drive/My Drive/Interns/dataset/test_img/359_32.jpg\n",
            "/content/drive/My Drive/Interns/dataset/test_img/360_32.jpg\n",
            "/content/drive/My Drive/Interns/dataset/test_img/361_32.jpg\n",
            "/content/drive/My Drive/Interns/dataset/test_img/364_32.jpg\n",
            "/content/drive/My Drive/Interns/dataset/test_img/357_32.jpg\n",
            "/content/drive/My Drive/Interns/dataset/test_img/358_32.jpg\n",
            "/content/drive/My Drive/Interns/dataset/test_img/355_32.jpg\n",
            "/content/drive/My Drive/Interns/dataset/test_img/354_32.jpg\n",
            "/content/drive/My Drive/Interns/dataset/test_img/356_32.jpg\n",
            "/content/drive/My Drive/Interns/dataset/test_img/350_32.jpg\n",
            "/content/drive/My Drive/Interns/dataset/test_img/353_32.jpg\n",
            "/content/drive/My Drive/Interns/dataset/test_img/351_32.jpg\n",
            "/content/drive/My Drive/Interns/dataset/test_img/352_32.jpg\n",
            "/content/drive/My Drive/Interns/dataset/test_img/348_32.jpg\n",
            "/content/drive/My Drive/Interns/dataset/test_img/349_32.jpg\n",
            "/content/drive/My Drive/Interns/dataset/test_img/347_32.jpg\n",
            "/content/drive/My Drive/Interns/dataset/test_img/338_32.jpg\n",
            "/content/drive/My Drive/Interns/dataset/test_img/346_32.jpg\n",
            "/content/drive/My Drive/Interns/dataset/test_img/343_32.jpg\n",
            "/content/drive/My Drive/Interns/dataset/test_img/342_32.jpg\n",
            "/content/drive/My Drive/Interns/dataset/test_img/344_32.jpg\n",
            "/content/drive/My Drive/Interns/dataset/test_img/345_32.jpg\n",
            "/content/drive/My Drive/Interns/dataset/test_img/341_32.jpg\n",
            "/content/drive/My Drive/Interns/dataset/test_img/340_32.jpg\n",
            "/content/drive/My Drive/Interns/dataset/test_img/339_32.jpg\n",
            "/content/drive/My Drive/Interns/dataset/test_img/337_32.jpg\n",
            "/content/drive/My Drive/Interns/dataset/test_img/332_32.jpg\n",
            "/content/drive/My Drive/Interns/dataset/test_img/335_32.jpg\n",
            "/content/drive/My Drive/Interns/dataset/test_img/334_32.jpg\n",
            "/content/drive/My Drive/Interns/dataset/test_img/330_32.jpg\n",
            "/content/drive/My Drive/Interns/dataset/test_img/336_32.jpg\n",
            "/content/drive/My Drive/Interns/dataset/test_img/331_32.jpg\n",
            "/content/drive/My Drive/Interns/dataset/test_img/329_32.jpg\n",
            "/content/drive/My Drive/Interns/dataset/test_img/333_32.jpg\n",
            "/content/drive/My Drive/Interns/dataset/test_img/328_32.jpg\n",
            "/content/drive/My Drive/Interns/dataset/test_img/397_32.jpg\n",
            "/content/drive/My Drive/Interns/dataset/test_img/394_32.jpg\n",
            "/content/drive/My Drive/Interns/dataset/test_img/391_32.jpg\n",
            "/content/drive/My Drive/Interns/dataset/test_img/390_32.jpg\n",
            "/content/drive/My Drive/Interns/dataset/test_img/388_32.jpg\n",
            "/content/drive/My Drive/Interns/dataset/test_img/395_32.jpg\n",
            "/content/drive/My Drive/Interns/dataset/test_img/392_32.jpg\n",
            "/content/drive/My Drive/Interns/dataset/test_img/396_32.jpg\n",
            "/content/drive/My Drive/Interns/dataset/test_img/389_32.jpg\n",
            "/content/drive/My Drive/Interns/dataset/test_img/393_32.jpg\n",
            "/content/drive/My Drive/Interns/dataset/test_img/387_32.jpg\n",
            "/content/drive/My Drive/Interns/dataset/test_img/380_32.jpg\n",
            "/content/drive/My Drive/Interns/dataset/test_img/378_32.jpg\n",
            "/content/drive/My Drive/Interns/dataset/test_img/386_32.jpg\n",
            "/content/drive/My Drive/Interns/dataset/test_img/382_32.jpg\n",
            "/content/drive/My Drive/Interns/dataset/test_img/383_32.jpg\n",
            "/content/drive/My Drive/Interns/dataset/test_img/379_32.jpg\n",
            "/content/drive/My Drive/Interns/dataset/test_img/385_32.jpg\n",
            "/content/drive/My Drive/Interns/dataset/test_img/384_32.jpg\n",
            "/content/drive/My Drive/Interns/dataset/test_img/381_32.jpg\n",
            "/content/drive/My Drive/Interns/dataset/test_img/377_32.jpg\n",
            "/content/drive/My Drive/Interns/dataset/test_img/5_32.jpg\n",
            "/content/drive/My Drive/Interns/dataset/test_img/3_32.jpg\n",
            "/content/drive/My Drive/Interns/dataset/test_img/6_32.jpg\n",
            "/content/drive/My Drive/Interns/dataset/test_img/398_32.jpg\n",
            "/content/drive/My Drive/Interns/dataset/test_img/2_32.jpg\n",
            "/content/drive/My Drive/Interns/dataset/test_img/1_32.jpg\n",
            "/content/drive/My Drive/Interns/dataset/test_img/4_32.jpg\n",
            "/content/drive/My Drive/Interns/dataset/test_img/399_32.jpg\n",
            "/content/drive/My Drive/Interns/dataset/test_img/400_32.jpg\n",
            "400\n"
          ],
          "name": "stdout"
        }
      ]
    },
    {
      "cell_type": "code",
      "metadata": {
        "id": "-ZOcck6GBBbf",
        "colab_type": "code",
        "colab": {}
      },
      "source": [
        "import os\n",
        "import cv2\n",
        "import matplotlib.pyplot as plt\n",
        "import numpy as np\n",
        "\n",
        "\n",
        "class Denoising():\n",
        "    NOISED = \"/content/drive/My Drive/Interns/dataset/noised/\"\n",
        "    CLEAN = \"/content/drive/My Drive/Interns/dataset/clean\"\n",
        "    TESTING = \"\"\n",
        "    training_data = []\n",
        "\n",
        "    def make_training_data(self):\n",
        "        directory_n = self.NOISED\n",
        "        directory_c = self.CLEAN\n",
        "        for filename in os.listdir(directory_n):\n",
        "            if filename.endswith(\".jpg\"):\n",
        "                path_noised = os.path.join(directory_n, filename)\n",
        "                img_noised = cv2.imread(path_noised)\n",
        "                path_clean = os.path.join(directory_c, filename)\n",
        "                img_clean = cv2.imread(path_clean)\n",
        "                self.training_data.append([np.array(img_noised), np.array(img_clean)])  # do something like print(np.eye(2)[1]), just makes one_hot\n",
        "\n",
        "        np.random.shuffle(self.training_data)\n",
        "        np.save(\"training_data.npy\", self.training_data)\n",
        "\n",
        "dn = Denoising()\n",
        "dn.make_training_data()"
      ],
      "execution_count": null,
      "outputs": []
    },
    {
      "cell_type": "code",
      "metadata": {
        "id": "yzx0nmAY9WID",
        "colab_type": "code",
        "colab": {}
      },
      "source": [
        "import numpy as np\n",
        "import matplotlib.pyplot as plt\n",
        "from tqdm import tqdm\n",
        "from torchvision import transforms\n",
        "import torch.nn as nn\n",
        "from torch.utils.data import DataLoader, Dataset\n",
        "import torch\n",
        "import torch.optim as optim\n",
        "import os\n",
        "import natsort\n",
        "from PIL import Image"
      ],
      "execution_count": null,
      "outputs": []
    },
    {
      "cell_type": "code",
      "metadata": {
        "id": "3XJXK-bv9XvV",
        "colab_type": "code",
        "colab": {}
      },
      "source": [
        "tsfms = transforms.Compose([\n",
        "    transforms.ToTensor()\n",
        "])"
      ],
      "execution_count": null,
      "outputs": []
    },
    {
      "cell_type": "code",
      "metadata": {
        "id": "Y0YYpAF39bT8",
        "colab_type": "code",
        "colab": {}
      },
      "source": [
        "class CustomDataSet(Dataset):\n",
        "    def __init__(self, noised_dir, clean_dir, transform):\n",
        "        self.noised_dir = noised_dir\n",
        "        self.clean_dir = clean_dir\n",
        "        self.transform = transform\n",
        "        noised_imgs = os.listdir(noised_dir)\n",
        "        clean_imgs = os.listdir(clean_dir)\n",
        "\n",
        "        self.noised_paths = natsort.natsorted(noised_imgs)\n",
        "        self.clean_paths = natsort.natsorted(clean_imgs)\n",
        "\n",
        "    def __len__(self):\n",
        "        assert len(self.noised_paths) == len(self.clean_paths)\n",
        "        return len(self.noised_paths)\n",
        "\n",
        "    def __getitem__(self, idx):\n",
        "        img_noised = os.path.join(self.noised_dir, self.noised_paths[idx])\n",
        "        img_clean = os.path.join(self.clean_dir, self.clean_paths[idx])\n",
        "\n",
        "        image_n = Image.open(img_noised)\n",
        "        image_c = Image.open(img_clean)\n",
        "\n",
        "        tensor_image_n = self.transform(image_n)\n",
        "        tensor_image_c = self.transform(image_c)\n",
        "        return (tensor_image_n, tensor_image_c)\n"
      ],
      "execution_count": null,
      "outputs": []
    },
    {
      "cell_type": "code",
      "metadata": {
        "id": "B74Zg9yX9b6G",
        "colab_type": "code",
        "colab": {}
      },
      "source": [
        "class denoising_model(nn.Module):\n",
        "    def __init__(self):\n",
        "        super(denoising_model, self).__init__()\n",
        "        self.encoder = nn.Sequential(\n",
        "            nn.Linear(32*32, 1024),\n",
        "            nn.ReLU(True),\n",
        "            nn.Linear(1024, 512),\n",
        "            nn.ReLU(True),\n",
        "            nn.Linear(512, 256),\n",
        "            nn.ReLU(True),\n",
        "            nn.Linear(256, 128),\n",
        "            nn.ReLU(True),\n",
        "            nn.Linear(128, 64),\n",
        "            nn.ReLU(True)\n",
        "        )\n",
        "\n",
        "        self.decoder = nn.Sequential(\n",
        "            nn.Linear(64, 128),\n",
        "            nn.ReLU(True),\n",
        "            nn.Linear(128, 256),\n",
        "            nn.ReLU(True),\n",
        "            nn.Linear(256, 512),\n",
        "            nn.ReLU(True),\n",
        "            nn.Linear(512, 1024),\n",
        "            nn.ReLU(True),\n",
        "            nn.Linear(1024, 32*32),\n",
        "            nn.Sigmoid(),\n",
        "        )\n",
        "\n",
        "    def forward(self, x):\n",
        "        x = self.encoder(x)\n",
        "        x = self.decoder(x)\n",
        "\n",
        "        return x"
      ],
      "execution_count": null,
      "outputs": []
    },
    {
      "cell_type": "code",
      "metadata": {
        "id": "loOupdSy9jHT",
        "colab_type": "code",
        "colab": {
          "base_uri": "https://localhost:8080/",
          "height": 1000
        },
        "outputId": "6cc42bb3-2b33-4a5c-951b-77e460c716aa"
      },
      "source": [
        "if __name__ == '__main__':\n",
        "       #Dataset\n",
        "    dataset = CustomDataSet(\"/content/drive/My Drive/Interns/dataset/noised/\", \"/content/drive/My Drive/Interns/dataset/clean\", transform=tsfms)\n",
        "    dataset_test = CustomDataSet(\"/content/drive/My Drive/Interns/dataset/test_noised\", \"/content/drive/My Drive/Interns/dataset/test_clean\", transform=tsfms)\n",
        "    train_loader = DataLoader(dataset, batch_size=256, shuffle=False,\n",
        "                              num_workers=4, drop_last=True)\n",
        "\n",
        "    test_loader = DataLoader(dataset_test, batch_size=64, shuffle=False,\n",
        "                              num_workers=4, drop_last=True)\n",
        "    model = denoising_model()\n",
        "\n",
        "    # We check whether cuda is available and choose device accordingly\n",
        "    if torch.cuda.is_available() == True:\n",
        "        device = \"cuda:0\"\n",
        "    else:\n",
        "        device = \"cpu\"\n",
        "\n",
        "    model = denoising_model().to(device)\n",
        "    criterion = nn.MSELoss()\n",
        "    optimizer = optim.Adam(model.parameters(), lr=0.0005, weight_decay=1e-5)\n",
        "\n",
        "    epochs = 120\n",
        "    l = len(train_loader)\n",
        "    losslist = list()\n",
        "    epochloss = 0\n",
        "    running_loss = 0\n",
        "    min_loss = 666666666666666\n",
        "\n",
        "    TRAIN = True\n",
        "    if TRAIN:\n",
        "        for epoch in range(epochs):\n",
        "\n",
        "            print(\"Entering Epoch: \", epoch)\n",
        "            for dirty, clean in tqdm((train_loader)):\n",
        "\n",
        "                dirty = dirty.view(dirty.size(0), -1).type(torch.FloatTensor)\n",
        "                clean = clean.view(clean.size(0), -1).type(torch.FloatTensor)\n",
        "                dirty, clean = dirty.to(device), clean.to(device)\n",
        "\n",
        "                output = model(dirty)\n",
        "                loss = criterion(output, clean)\n",
        "\n",
        "                optimizer.zero_grad()\n",
        "\n",
        "                loss.backward()\n",
        "                optimizer.step()\n",
        "\n",
        "                running_loss += loss.item()\n",
        "                epochloss += loss.item()\n",
        "                device = torch.device('cuda' if torch.cuda.is_available() else 'cpu')\n",
        "\n",
        "\n",
        "            losslist.append(running_loss / l)\n",
        "\n",
        "            if loss.item() < min_loss:\n",
        "                torch.save(model.state_dict(), \"/content/drive/My Drive/Interns/dataset/model/model.pt\")\n",
        "                min_loss = loss.item()\n",
        "\n",
        "            running_loss = 0\n",
        "            print(\"======> epoch: {}/{}, Loss:{}\".format(epoch, epochs, loss.item()))\n",
        "\n",
        "        plt.plot(range(len(losslist)), losslist)\n",
        "\n",
        "    #model = torch.load('X:/dataset/model/model.pt')\n",
        "    model.eval()\n",
        "\n",
        "    f, axes = plt.subplots(6, 3, figsize=(20, 20))\n",
        "    axes[0, 0].set_title(\"Original Image\")\n",
        "    axes[0, 1].set_title(\"Dirty Image\")\n",
        "    axes[0, 2].set_title(\"Cleaned Image\")\n",
        "\n",
        "    # test_imgs = np.random.randint(0, 1126, size=6)\n",
        "    test_imgs = np.asarray([i for i in range(6)])\n",
        "    for idx in range((6)):\n",
        "        dirty = dataset_test[test_imgs[idx]][0]\n",
        "        clean = dataset_test[test_imgs[idx]][1]\n",
        "\n",
        "        dirty = dirty.view(dirty.size(0), -1).type(torch.FloatTensor)\n",
        "        dirty = dirty.to(device)\n",
        "        output = model(dirty)\n",
        "\n",
        "        output = output.view(1, 32, 32)\n",
        "        output = output.permute(1, 2, 0).squeeze(2)\n",
        "        output = output.detach().cpu().numpy()\n",
        "\n",
        "        dirty = dirty.view(1, 32, 32)\n",
        "        dirty = dirty.permute(1, 2, 0).squeeze(2)\n",
        "        dirty = dirty.detach().cpu().numpy()\n",
        "\n",
        "        clean = clean.permute(1, 2, 0).squeeze(2)\n",
        "        clean = clean.detach().cpu().numpy()\n",
        "\n",
        "        axes[idx, 0].imshow(clean, cmap=\"gray\")\n",
        "        axes[idx, 1].imshow(dirty, cmap=\"gray\")\n",
        "        axes[idx, 2].imshow(output, cmap=\"gray\")\n",
        "    plt.show()\n",
        "\n",
        "    # torch.save(model.state_dict(), \"X:/dataset/model/model.pt\")"
      ],
      "execution_count": null,
      "outputs": [
        {
          "output_type": "stream",
          "text": [
            "\r  0%|          | 0/1 [00:00<?, ?it/s]"
          ],
          "name": "stderr"
        },
        {
          "output_type": "stream",
          "text": [
            "Entering Epoch:  0\n"
          ],
          "name": "stdout"
        },
        {
          "output_type": "stream",
          "text": [
            "100%|██████████| 1/1 [00:00<00:00,  1.13it/s]\n",
            "  0%|          | 0/1 [00:00<?, ?it/s]"
          ],
          "name": "stderr"
        },
        {
          "output_type": "stream",
          "text": [
            "======> epoch: 0/120, Loss:0.05132604017853737\n",
            "Entering Epoch:  1\n"
          ],
          "name": "stdout"
        },
        {
          "output_type": "stream",
          "text": [
            "100%|██████████| 1/1 [00:00<00:00,  1.12it/s]\n",
            "  0%|          | 0/1 [00:00<?, ?it/s]"
          ],
          "name": "stderr"
        },
        {
          "output_type": "stream",
          "text": [
            "======> epoch: 1/120, Loss:0.05118147283792496\n",
            "Entering Epoch:  2\n"
          ],
          "name": "stdout"
        },
        {
          "output_type": "stream",
          "text": [
            "100%|██████████| 1/1 [00:00<00:00,  1.11it/s]\n",
            "  0%|          | 0/1 [00:00<?, ?it/s]"
          ],
          "name": "stderr"
        },
        {
          "output_type": "stream",
          "text": [
            "======> epoch: 2/120, Loss:0.05103693902492523\n",
            "Entering Epoch:  3\n"
          ],
          "name": "stdout"
        },
        {
          "output_type": "stream",
          "text": [
            "100%|██████████| 1/1 [00:00<00:00,  1.14it/s]\n",
            "  0%|          | 0/1 [00:00<?, ?it/s]"
          ],
          "name": "stderr"
        },
        {
          "output_type": "stream",
          "text": [
            "======> epoch: 3/120, Loss:0.050877273082733154\n",
            "Entering Epoch:  4\n"
          ],
          "name": "stdout"
        },
        {
          "output_type": "stream",
          "text": [
            "100%|██████████| 1/1 [00:00<00:00,  1.12it/s]\n",
            "  0%|          | 0/1 [00:00<?, ?it/s]"
          ],
          "name": "stderr"
        },
        {
          "output_type": "stream",
          "text": [
            "======> epoch: 4/120, Loss:0.05069534108042717\n",
            "Entering Epoch:  5\n"
          ],
          "name": "stdout"
        },
        {
          "output_type": "stream",
          "text": [
            "100%|██████████| 1/1 [00:00<00:00,  1.13it/s]\n",
            "  0%|          | 0/1 [00:00<?, ?it/s]"
          ],
          "name": "stderr"
        },
        {
          "output_type": "stream",
          "text": [
            "======> epoch: 5/120, Loss:0.05049039423465729\n",
            "Entering Epoch:  6\n"
          ],
          "name": "stdout"
        },
        {
          "output_type": "stream",
          "text": [
            "100%|██████████| 1/1 [00:00<00:00,  1.08it/s]\n",
            "  0%|          | 0/1 [00:00<?, ?it/s]"
          ],
          "name": "stderr"
        },
        {
          "output_type": "stream",
          "text": [
            "======> epoch: 6/120, Loss:0.05026805400848389\n",
            "Entering Epoch:  7\n"
          ],
          "name": "stdout"
        },
        {
          "output_type": "stream",
          "text": [
            "100%|██████████| 1/1 [00:00<00:00,  1.14it/s]\n",
            "  0%|          | 0/1 [00:00<?, ?it/s]"
          ],
          "name": "stderr"
        },
        {
          "output_type": "stream",
          "text": [
            "======> epoch: 7/120, Loss:0.05004112794995308\n",
            "Entering Epoch:  8\n"
          ],
          "name": "stdout"
        },
        {
          "output_type": "stream",
          "text": [
            "100%|██████████| 1/1 [00:00<00:00,  1.01it/s]\n",
            "  0%|          | 0/1 [00:00<?, ?it/s]"
          ],
          "name": "stderr"
        },
        {
          "output_type": "stream",
          "text": [
            "======> epoch: 8/120, Loss:0.04983264207839966\n",
            "Entering Epoch:  9\n"
          ],
          "name": "stdout"
        },
        {
          "output_type": "stream",
          "text": [
            "100%|██████████| 1/1 [00:00<00:00,  1.14it/s]\n",
            "  0%|          | 0/1 [00:00<?, ?it/s]"
          ],
          "name": "stderr"
        },
        {
          "output_type": "stream",
          "text": [
            "======> epoch: 9/120, Loss:0.049676209688186646\n",
            "Entering Epoch:  10\n"
          ],
          "name": "stdout"
        },
        {
          "output_type": "stream",
          "text": [
            "100%|██████████| 1/1 [00:00<00:00,  1.08it/s]\n",
            "  0%|          | 0/1 [00:00<?, ?it/s]"
          ],
          "name": "stderr"
        },
        {
          "output_type": "stream",
          "text": [
            "======> epoch: 10/120, Loss:0.049607619643211365\n",
            "Entering Epoch:  11\n"
          ],
          "name": "stdout"
        },
        {
          "output_type": "stream",
          "text": [
            "100%|██████████| 1/1 [00:00<00:00,  1.07it/s]\n",
            "  0%|          | 0/1 [00:00<?, ?it/s]"
          ],
          "name": "stderr"
        },
        {
          "output_type": "stream",
          "text": [
            "======> epoch: 11/120, Loss:0.04962873086333275\n",
            "Entering Epoch:  12\n"
          ],
          "name": "stdout"
        },
        {
          "output_type": "stream",
          "text": [
            "100%|██████████| 1/1 [00:00<00:00,  1.09it/s]\n",
            "  0%|          | 0/1 [00:00<?, ?it/s]"
          ],
          "name": "stderr"
        },
        {
          "output_type": "stream",
          "text": [
            "======> epoch: 12/120, Loss:0.04966045916080475\n",
            "Entering Epoch:  13\n"
          ],
          "name": "stdout"
        },
        {
          "output_type": "stream",
          "text": [
            "100%|██████████| 1/1 [00:00<00:00,  1.09it/s]\n",
            "  0%|          | 0/1 [00:00<?, ?it/s]"
          ],
          "name": "stderr"
        },
        {
          "output_type": "stream",
          "text": [
            "======> epoch: 13/120, Loss:0.04963025450706482\n",
            "Entering Epoch:  14\n"
          ],
          "name": "stdout"
        },
        {
          "output_type": "stream",
          "text": [
            "100%|██████████| 1/1 [00:00<00:00,  1.12it/s]\n",
            "  0%|          | 0/1 [00:00<?, ?it/s]"
          ],
          "name": "stderr"
        },
        {
          "output_type": "stream",
          "text": [
            "======> epoch: 14/120, Loss:0.04954642429947853\n",
            "Entering Epoch:  15\n"
          ],
          "name": "stdout"
        },
        {
          "output_type": "stream",
          "text": [
            "100%|██████████| 1/1 [00:00<00:00,  1.11it/s]\n",
            "  0%|          | 0/1 [00:00<?, ?it/s]"
          ],
          "name": "stderr"
        },
        {
          "output_type": "stream",
          "text": [
            "======> epoch: 15/120, Loss:0.049441806972026825\n",
            "Entering Epoch:  16\n"
          ],
          "name": "stdout"
        },
        {
          "output_type": "stream",
          "text": [
            "100%|██████████| 1/1 [00:00<00:00,  1.14it/s]\n",
            "  0%|          | 0/1 [00:00<?, ?it/s]"
          ],
          "name": "stderr"
        },
        {
          "output_type": "stream",
          "text": [
            "======> epoch: 16/120, Loss:0.049358054995536804\n",
            "Entering Epoch:  17\n"
          ],
          "name": "stdout"
        },
        {
          "output_type": "stream",
          "text": [
            "100%|██████████| 1/1 [00:00<00:00,  1.04it/s]\n",
            "  0%|          | 0/1 [00:00<?, ?it/s]"
          ],
          "name": "stderr"
        },
        {
          "output_type": "stream",
          "text": [
            "======> epoch: 17/120, Loss:0.04930197447538376\n",
            "Entering Epoch:  18\n"
          ],
          "name": "stdout"
        },
        {
          "output_type": "stream",
          "text": [
            "100%|██████████| 1/1 [00:00<00:00,  1.16it/s]\n",
            "  0%|          | 0/1 [00:00<?, ?it/s]"
          ],
          "name": "stderr"
        },
        {
          "output_type": "stream",
          "text": [
            "======> epoch: 18/120, Loss:0.04928324744105339\n",
            "Entering Epoch:  19\n"
          ],
          "name": "stdout"
        },
        {
          "output_type": "stream",
          "text": [
            "100%|██████████| 1/1 [00:00<00:00,  1.09it/s]\n",
            "  0%|          | 0/1 [00:00<?, ?it/s]"
          ],
          "name": "stderr"
        },
        {
          "output_type": "stream",
          "text": [
            "======> epoch: 19/120, Loss:0.049249932169914246\n",
            "Entering Epoch:  20\n"
          ],
          "name": "stdout"
        },
        {
          "output_type": "stream",
          "text": [
            "100%|██████████| 1/1 [00:00<00:00,  1.13it/s]\n",
            "  0%|          | 0/1 [00:00<?, ?it/s]"
          ],
          "name": "stderr"
        },
        {
          "output_type": "stream",
          "text": [
            "======> epoch: 20/120, Loss:0.049217790365219116\n",
            "Entering Epoch:  21\n"
          ],
          "name": "stdout"
        },
        {
          "output_type": "stream",
          "text": [
            "100%|██████████| 1/1 [00:00<00:00,  1.09it/s]\n",
            "  0%|          | 0/1 [00:00<?, ?it/s]"
          ],
          "name": "stderr"
        },
        {
          "output_type": "stream",
          "text": [
            "======> epoch: 21/120, Loss:0.049157220870256424\n",
            "Entering Epoch:  22\n"
          ],
          "name": "stdout"
        },
        {
          "output_type": "stream",
          "text": [
            "100%|██████████| 1/1 [00:00<00:00,  1.17it/s]\n",
            "  0%|          | 0/1 [00:00<?, ?it/s]"
          ],
          "name": "stderr"
        },
        {
          "output_type": "stream",
          "text": [
            "======> epoch: 22/120, Loss:0.049031104892492294\n",
            "Entering Epoch:  23\n"
          ],
          "name": "stdout"
        },
        {
          "output_type": "stream",
          "text": [
            "100%|██████████| 1/1 [00:00<00:00,  1.17it/s]\n",
            "  0%|          | 0/1 [00:00<?, ?it/s]"
          ],
          "name": "stderr"
        },
        {
          "output_type": "stream",
          "text": [
            "======> epoch: 23/120, Loss:0.04889141395688057\n",
            "Entering Epoch:  24\n"
          ],
          "name": "stdout"
        },
        {
          "output_type": "stream",
          "text": [
            "100%|██████████| 1/1 [00:00<00:00,  1.13it/s]\n",
            "  0%|          | 0/1 [00:00<?, ?it/s]"
          ],
          "name": "stderr"
        },
        {
          "output_type": "stream",
          "text": [
            "======> epoch: 24/120, Loss:0.04876385256648064\n",
            "Entering Epoch:  25\n"
          ],
          "name": "stdout"
        },
        {
          "output_type": "stream",
          "text": [
            "100%|██████████| 1/1 [00:00<00:00,  1.14it/s]\n",
            "  0%|          | 0/1 [00:00<?, ?it/s]"
          ],
          "name": "stderr"
        },
        {
          "output_type": "stream",
          "text": [
            "======> epoch: 25/120, Loss:0.04855453222990036\n",
            "Entering Epoch:  26\n"
          ],
          "name": "stdout"
        },
        {
          "output_type": "stream",
          "text": [
            "100%|██████████| 1/1 [00:00<00:00,  1.15it/s]\n",
            "  0%|          | 0/1 [00:00<?, ?it/s]"
          ],
          "name": "stderr"
        },
        {
          "output_type": "stream",
          "text": [
            "======> epoch: 26/120, Loss:0.04829280450940132\n",
            "Entering Epoch:  27\n"
          ],
          "name": "stdout"
        },
        {
          "output_type": "stream",
          "text": [
            "100%|██████████| 1/1 [00:00<00:00,  1.17it/s]\n",
            "  0%|          | 0/1 [00:00<?, ?it/s]"
          ],
          "name": "stderr"
        },
        {
          "output_type": "stream",
          "text": [
            "======> epoch: 27/120, Loss:0.047802336513996124\n",
            "Entering Epoch:  28\n"
          ],
          "name": "stdout"
        },
        {
          "output_type": "stream",
          "text": [
            "100%|██████████| 1/1 [00:00<00:00,  1.15it/s]\n",
            "  0%|          | 0/1 [00:00<?, ?it/s]"
          ],
          "name": "stderr"
        },
        {
          "output_type": "stream",
          "text": [
            "======> epoch: 28/120, Loss:0.04829297959804535\n",
            "Entering Epoch:  29\n"
          ],
          "name": "stdout"
        },
        {
          "output_type": "stream",
          "text": [
            "100%|██████████| 1/1 [00:00<00:00,  1.19it/s]\n",
            "  0%|          | 0/1 [00:00<?, ?it/s]"
          ],
          "name": "stderr"
        },
        {
          "output_type": "stream",
          "text": [
            "======> epoch: 29/120, Loss:0.047456368803977966\n",
            "Entering Epoch:  30\n"
          ],
          "name": "stdout"
        },
        {
          "output_type": "stream",
          "text": [
            "100%|██████████| 1/1 [00:00<00:00,  1.12it/s]\n",
            "  0%|          | 0/1 [00:00<?, ?it/s]"
          ],
          "name": "stderr"
        },
        {
          "output_type": "stream",
          "text": [
            "======> epoch: 30/120, Loss:0.04758400842547417\n",
            "Entering Epoch:  31\n"
          ],
          "name": "stdout"
        },
        {
          "output_type": "stream",
          "text": [
            "100%|██████████| 1/1 [00:00<00:00,  1.06it/s]\n",
            "  0%|          | 0/1 [00:00<?, ?it/s]"
          ],
          "name": "stderr"
        },
        {
          "output_type": "stream",
          "text": [
            "======> epoch: 31/120, Loss:0.046536266803741455\n",
            "Entering Epoch:  32\n"
          ],
          "name": "stdout"
        },
        {
          "output_type": "stream",
          "text": [
            "100%|██████████| 1/1 [00:00<00:00,  1.12it/s]\n",
            "  0%|          | 0/1 [00:00<?, ?it/s]"
          ],
          "name": "stderr"
        },
        {
          "output_type": "stream",
          "text": [
            "======> epoch: 32/120, Loss:0.046986039727926254\n",
            "Entering Epoch:  33\n"
          ],
          "name": "stdout"
        },
        {
          "output_type": "stream",
          "text": [
            "100%|██████████| 1/1 [00:00<00:00,  1.12it/s]\n",
            "  0%|          | 0/1 [00:00<?, ?it/s]"
          ],
          "name": "stderr"
        },
        {
          "output_type": "stream",
          "text": [
            "======> epoch: 33/120, Loss:0.04514823853969574\n",
            "Entering Epoch:  34\n"
          ],
          "name": "stdout"
        },
        {
          "output_type": "stream",
          "text": [
            "100%|██████████| 1/1 [00:00<00:00,  1.15it/s]\n",
            "  0%|          | 0/1 [00:00<?, ?it/s]"
          ],
          "name": "stderr"
        },
        {
          "output_type": "stream",
          "text": [
            "======> epoch: 34/120, Loss:0.045236505568027496\n",
            "Entering Epoch:  35\n"
          ],
          "name": "stdout"
        },
        {
          "output_type": "stream",
          "text": [
            "100%|██████████| 1/1 [00:00<00:00,  1.14it/s]\n",
            "  0%|          | 0/1 [00:00<?, ?it/s]"
          ],
          "name": "stderr"
        },
        {
          "output_type": "stream",
          "text": [
            "======> epoch: 35/120, Loss:0.04387131333351135\n",
            "Entering Epoch:  36\n"
          ],
          "name": "stdout"
        },
        {
          "output_type": "stream",
          "text": [
            "100%|██████████| 1/1 [00:00<00:00,  1.13it/s]\n",
            "  0%|          | 0/1 [00:00<?, ?it/s]"
          ],
          "name": "stderr"
        },
        {
          "output_type": "stream",
          "text": [
            "======> epoch: 36/120, Loss:0.0467839241027832\n",
            "Entering Epoch:  37\n"
          ],
          "name": "stdout"
        },
        {
          "output_type": "stream",
          "text": [
            "100%|██████████| 1/1 [00:00<00:00,  1.11it/s]\n",
            "  0%|          | 0/1 [00:00<?, ?it/s]"
          ],
          "name": "stderr"
        },
        {
          "output_type": "stream",
          "text": [
            "======> epoch: 37/120, Loss:0.04444517940282822\n",
            "Entering Epoch:  38\n"
          ],
          "name": "stdout"
        },
        {
          "output_type": "stream",
          "text": [
            "100%|██████████| 1/1 [00:00<00:00,  1.14it/s]\n",
            "  0%|          | 0/1 [00:00<?, ?it/s]"
          ],
          "name": "stderr"
        },
        {
          "output_type": "stream",
          "text": [
            "======> epoch: 38/120, Loss:0.04651886597275734\n",
            "Entering Epoch:  39\n"
          ],
          "name": "stdout"
        },
        {
          "output_type": "stream",
          "text": [
            "100%|██████████| 1/1 [00:00<00:00,  1.14it/s]\n",
            "  0%|          | 0/1 [00:00<?, ?it/s]"
          ],
          "name": "stderr"
        },
        {
          "output_type": "stream",
          "text": [
            "======> epoch: 39/120, Loss:0.04620830714702606\n",
            "Entering Epoch:  40\n"
          ],
          "name": "stdout"
        },
        {
          "output_type": "stream",
          "text": [
            "100%|██████████| 1/1 [00:00<00:00,  1.13it/s]\n",
            "  0%|          | 0/1 [00:00<?, ?it/s]"
          ],
          "name": "stderr"
        },
        {
          "output_type": "stream",
          "text": [
            "======> epoch: 40/120, Loss:0.04352032020688057\n",
            "Entering Epoch:  41\n"
          ],
          "name": "stdout"
        },
        {
          "output_type": "stream",
          "text": [
            "100%|██████████| 1/1 [00:00<00:00,  1.17it/s]\n",
            "  0%|          | 0/1 [00:00<?, ?it/s]"
          ],
          "name": "stderr"
        },
        {
          "output_type": "stream",
          "text": [
            "======> epoch: 41/120, Loss:0.043480902910232544\n",
            "Entering Epoch:  42\n"
          ],
          "name": "stdout"
        },
        {
          "output_type": "stream",
          "text": [
            "100%|██████████| 1/1 [00:00<00:00,  1.12it/s]\n",
            "  0%|          | 0/1 [00:00<?, ?it/s]"
          ],
          "name": "stderr"
        },
        {
          "output_type": "stream",
          "text": [
            "======> epoch: 42/120, Loss:0.04302943870425224\n",
            "Entering Epoch:  43\n"
          ],
          "name": "stdout"
        },
        {
          "output_type": "stream",
          "text": [
            "100%|██████████| 1/1 [00:00<00:00,  1.13it/s]\n",
            "  0%|          | 0/1 [00:00<?, ?it/s]"
          ],
          "name": "stderr"
        },
        {
          "output_type": "stream",
          "text": [
            "======> epoch: 43/120, Loss:0.04168931394815445\n",
            "Entering Epoch:  44\n"
          ],
          "name": "stdout"
        },
        {
          "output_type": "stream",
          "text": [
            "100%|██████████| 1/1 [00:00<00:00,  1.14it/s]\n",
            "  0%|          | 0/1 [00:00<?, ?it/s]"
          ],
          "name": "stderr"
        },
        {
          "output_type": "stream",
          "text": [
            "======> epoch: 44/120, Loss:0.042709216475486755\n",
            "Entering Epoch:  45\n"
          ],
          "name": "stdout"
        },
        {
          "output_type": "stream",
          "text": [
            "100%|██████████| 1/1 [00:00<00:00,  1.15it/s]\n",
            "  0%|          | 0/1 [00:00<?, ?it/s]"
          ],
          "name": "stderr"
        },
        {
          "output_type": "stream",
          "text": [
            "======> epoch: 45/120, Loss:0.04184935986995697\n",
            "Entering Epoch:  46\n"
          ],
          "name": "stdout"
        },
        {
          "output_type": "stream",
          "text": [
            "100%|██████████| 1/1 [00:00<00:00,  1.16it/s]\n",
            "  0%|          | 0/1 [00:00<?, ?it/s]"
          ],
          "name": "stderr"
        },
        {
          "output_type": "stream",
          "text": [
            "======> epoch: 46/120, Loss:0.040887314826250076\n",
            "Entering Epoch:  47\n"
          ],
          "name": "stdout"
        },
        {
          "output_type": "stream",
          "text": [
            "100%|██████████| 1/1 [00:00<00:00,  1.13it/s]\n",
            "  0%|          | 0/1 [00:00<?, ?it/s]"
          ],
          "name": "stderr"
        },
        {
          "output_type": "stream",
          "text": [
            "======> epoch: 47/120, Loss:0.04198458045721054\n",
            "Entering Epoch:  48\n"
          ],
          "name": "stdout"
        },
        {
          "output_type": "stream",
          "text": [
            "100%|██████████| 1/1 [00:00<00:00,  1.07it/s]\n",
            "  0%|          | 0/1 [00:00<?, ?it/s]"
          ],
          "name": "stderr"
        },
        {
          "output_type": "stream",
          "text": [
            "======> epoch: 48/120, Loss:0.04039338231086731\n",
            "Entering Epoch:  49\n"
          ],
          "name": "stdout"
        },
        {
          "output_type": "stream",
          "text": [
            "100%|██████████| 1/1 [00:00<00:00,  1.16it/s]\n",
            "  0%|          | 0/1 [00:00<?, ?it/s]"
          ],
          "name": "stderr"
        },
        {
          "output_type": "stream",
          "text": [
            "======> epoch: 49/120, Loss:0.04117869585752487\n",
            "Entering Epoch:  50\n"
          ],
          "name": "stdout"
        },
        {
          "output_type": "stream",
          "text": [
            "100%|██████████| 1/1 [00:00<00:00,  1.12it/s]\n",
            "  0%|          | 0/1 [00:00<?, ?it/s]"
          ],
          "name": "stderr"
        },
        {
          "output_type": "stream",
          "text": [
            "======> epoch: 50/120, Loss:0.040558021515607834\n",
            "Entering Epoch:  51\n"
          ],
          "name": "stdout"
        },
        {
          "output_type": "stream",
          "text": [
            "100%|██████████| 1/1 [00:00<00:00,  1.15it/s]\n",
            "  0%|          | 0/1 [00:00<?, ?it/s]"
          ],
          "name": "stderr"
        },
        {
          "output_type": "stream",
          "text": [
            "======> epoch: 51/120, Loss:0.039991822093725204\n",
            "Entering Epoch:  52\n"
          ],
          "name": "stdout"
        },
        {
          "output_type": "stream",
          "text": [
            "100%|██████████| 1/1 [00:00<00:00,  1.14it/s]\n",
            "  0%|          | 0/1 [00:00<?, ?it/s]"
          ],
          "name": "stderr"
        },
        {
          "output_type": "stream",
          "text": [
            "======> epoch: 52/120, Loss:0.040415454655885696\n",
            "Entering Epoch:  53\n"
          ],
          "name": "stdout"
        },
        {
          "output_type": "stream",
          "text": [
            "100%|██████████| 1/1 [00:00<00:00,  1.13it/s]\n",
            "  0%|          | 0/1 [00:00<?, ?it/s]"
          ],
          "name": "stderr"
        },
        {
          "output_type": "stream",
          "text": [
            "======> epoch: 53/120, Loss:0.03947184234857559\n",
            "Entering Epoch:  54\n"
          ],
          "name": "stdout"
        },
        {
          "output_type": "stream",
          "text": [
            "100%|██████████| 1/1 [00:00<00:00,  1.20it/s]\n",
            "  0%|          | 0/1 [00:00<?, ?it/s]"
          ],
          "name": "stderr"
        },
        {
          "output_type": "stream",
          "text": [
            "======> epoch: 54/120, Loss:0.03986288607120514\n",
            "Entering Epoch:  55\n"
          ],
          "name": "stdout"
        },
        {
          "output_type": "stream",
          "text": [
            "100%|██████████| 1/1 [00:00<00:00,  1.17it/s]\n",
            "  0%|          | 0/1 [00:00<?, ?it/s]"
          ],
          "name": "stderr"
        },
        {
          "output_type": "stream",
          "text": [
            "======> epoch: 55/120, Loss:0.03906740993261337\n",
            "Entering Epoch:  56\n"
          ],
          "name": "stdout"
        },
        {
          "output_type": "stream",
          "text": [
            "100%|██████████| 1/1 [00:00<00:00,  1.14it/s]\n",
            "  0%|          | 0/1 [00:00<?, ?it/s]"
          ],
          "name": "stderr"
        },
        {
          "output_type": "stream",
          "text": [
            "======> epoch: 56/120, Loss:0.03915465623140335\n",
            "Entering Epoch:  57\n"
          ],
          "name": "stdout"
        },
        {
          "output_type": "stream",
          "text": [
            "100%|██████████| 1/1 [00:00<00:00,  1.17it/s]\n",
            "  0%|          | 0/1 [00:00<?, ?it/s]"
          ],
          "name": "stderr"
        },
        {
          "output_type": "stream",
          "text": [
            "======> epoch: 57/120, Loss:0.03848563879728317\n",
            "Entering Epoch:  58\n"
          ],
          "name": "stdout"
        },
        {
          "output_type": "stream",
          "text": [
            "100%|██████████| 1/1 [00:00<00:00,  1.17it/s]\n",
            "  0%|          | 0/1 [00:00<?, ?it/s]"
          ],
          "name": "stderr"
        },
        {
          "output_type": "stream",
          "text": [
            "======> epoch: 58/120, Loss:0.0384117066860199\n",
            "Entering Epoch:  59\n"
          ],
          "name": "stdout"
        },
        {
          "output_type": "stream",
          "text": [
            "100%|██████████| 1/1 [00:00<00:00,  1.09it/s]\n",
            "  0%|          | 0/1 [00:00<?, ?it/s]"
          ],
          "name": "stderr"
        },
        {
          "output_type": "stream",
          "text": [
            "======> epoch: 59/120, Loss:0.038011275231838226\n",
            "Entering Epoch:  60\n"
          ],
          "name": "stdout"
        },
        {
          "output_type": "stream",
          "text": [
            "100%|██████████| 1/1 [00:00<00:00,  1.15it/s]\n",
            "  0%|          | 0/1 [00:00<?, ?it/s]"
          ],
          "name": "stderr"
        },
        {
          "output_type": "stream",
          "text": [
            "======> epoch: 60/120, Loss:0.03761863708496094\n",
            "Entering Epoch:  61\n"
          ],
          "name": "stdout"
        },
        {
          "output_type": "stream",
          "text": [
            "100%|██████████| 1/1 [00:00<00:00,  1.13it/s]\n",
            "  0%|          | 0/1 [00:00<?, ?it/s]"
          ],
          "name": "stderr"
        },
        {
          "output_type": "stream",
          "text": [
            "======> epoch: 61/120, Loss:0.037266846746206284\n",
            "Entering Epoch:  62\n"
          ],
          "name": "stdout"
        },
        {
          "output_type": "stream",
          "text": [
            "100%|██████████| 1/1 [00:00<00:00,  1.08it/s]\n",
            "  0%|          | 0/1 [00:00<?, ?it/s]"
          ],
          "name": "stderr"
        },
        {
          "output_type": "stream",
          "text": [
            "======> epoch: 62/120, Loss:0.037042438983917236\n",
            "Entering Epoch:  63\n"
          ],
          "name": "stdout"
        },
        {
          "output_type": "stream",
          "text": [
            "100%|██████████| 1/1 [00:00<00:00,  1.11it/s]\n",
            "  0%|          | 0/1 [00:00<?, ?it/s]"
          ],
          "name": "stderr"
        },
        {
          "output_type": "stream",
          "text": [
            "======> epoch: 63/120, Loss:0.03658224269747734\n",
            "Entering Epoch:  64\n"
          ],
          "name": "stdout"
        },
        {
          "output_type": "stream",
          "text": [
            "100%|██████████| 1/1 [00:00<00:00,  1.08it/s]\n",
            "  0%|          | 0/1 [00:00<?, ?it/s]"
          ],
          "name": "stderr"
        },
        {
          "output_type": "stream",
          "text": [
            "======> epoch: 64/120, Loss:0.036538220942020416\n",
            "Entering Epoch:  65\n"
          ],
          "name": "stdout"
        },
        {
          "output_type": "stream",
          "text": [
            "100%|██████████| 1/1 [00:00<00:00,  1.15it/s]\n",
            "  0%|          | 0/1 [00:00<?, ?it/s]"
          ],
          "name": "stderr"
        },
        {
          "output_type": "stream",
          "text": [
            "======> epoch: 65/120, Loss:0.03591747581958771\n",
            "Entering Epoch:  66\n"
          ],
          "name": "stdout"
        },
        {
          "output_type": "stream",
          "text": [
            "100%|██████████| 1/1 [00:00<00:00,  1.16it/s]\n",
            "  0%|          | 0/1 [00:00<?, ?it/s]"
          ],
          "name": "stderr"
        },
        {
          "output_type": "stream",
          "text": [
            "======> epoch: 66/120, Loss:0.03595222532749176\n",
            "Entering Epoch:  67\n"
          ],
          "name": "stdout"
        },
        {
          "output_type": "stream",
          "text": [
            "100%|██████████| 1/1 [00:00<00:00,  1.09it/s]\n",
            "  0%|          | 0/1 [00:00<?, ?it/s]"
          ],
          "name": "stderr"
        },
        {
          "output_type": "stream",
          "text": [
            "======> epoch: 67/120, Loss:0.03567606210708618\n",
            "Entering Epoch:  68\n"
          ],
          "name": "stdout"
        },
        {
          "output_type": "stream",
          "text": [
            "100%|██████████| 1/1 [00:00<00:00,  1.13it/s]\n",
            "  0%|          | 0/1 [00:00<?, ?it/s]"
          ],
          "name": "stderr"
        },
        {
          "output_type": "stream",
          "text": [
            "======> epoch: 68/120, Loss:0.035285674035549164\n",
            "Entering Epoch:  69\n"
          ],
          "name": "stdout"
        },
        {
          "output_type": "stream",
          "text": [
            "100%|██████████| 1/1 [00:00<00:00,  1.11it/s]\n",
            "  0%|          | 0/1 [00:00<?, ?it/s]"
          ],
          "name": "stderr"
        },
        {
          "output_type": "stream",
          "text": [
            "======> epoch: 69/120, Loss:0.035359397530555725\n",
            "Entering Epoch:  70\n"
          ],
          "name": "stdout"
        },
        {
          "output_type": "stream",
          "text": [
            "100%|██████████| 1/1 [00:00<00:00,  1.16it/s]\n",
            "  0%|          | 0/1 [00:00<?, ?it/s]"
          ],
          "name": "stderr"
        },
        {
          "output_type": "stream",
          "text": [
            "======> epoch: 70/120, Loss:0.03534802421927452\n",
            "Entering Epoch:  71\n"
          ],
          "name": "stdout"
        },
        {
          "output_type": "stream",
          "text": [
            "100%|██████████| 1/1 [00:00<00:00,  1.14it/s]\n",
            "  0%|          | 0/1 [00:00<?, ?it/s]"
          ],
          "name": "stderr"
        },
        {
          "output_type": "stream",
          "text": [
            "======> epoch: 71/120, Loss:0.03505215048789978\n",
            "Entering Epoch:  72\n"
          ],
          "name": "stdout"
        },
        {
          "output_type": "stream",
          "text": [
            "100%|██████████| 1/1 [00:00<00:00,  1.12it/s]\n",
            "  0%|          | 0/1 [00:00<?, ?it/s]"
          ],
          "name": "stderr"
        },
        {
          "output_type": "stream",
          "text": [
            "======> epoch: 72/120, Loss:0.03484238684177399\n",
            "Entering Epoch:  73\n"
          ],
          "name": "stdout"
        },
        {
          "output_type": "stream",
          "text": [
            "100%|██████████| 1/1 [00:00<00:00,  1.08it/s]\n",
            "  0%|          | 0/1 [00:00<?, ?it/s]"
          ],
          "name": "stderr"
        },
        {
          "output_type": "stream",
          "text": [
            "======> epoch: 73/120, Loss:0.03490740805864334\n",
            "Entering Epoch:  74\n"
          ],
          "name": "stdout"
        },
        {
          "output_type": "stream",
          "text": [
            "100%|██████████| 1/1 [00:00<00:00,  1.11it/s]\n",
            "  0%|          | 0/1 [00:00<?, ?it/s]"
          ],
          "name": "stderr"
        },
        {
          "output_type": "stream",
          "text": [
            "======> epoch: 74/120, Loss:0.03508663922548294\n",
            "Entering Epoch:  75\n"
          ],
          "name": "stdout"
        },
        {
          "output_type": "stream",
          "text": [
            "100%|██████████| 1/1 [00:00<00:00,  1.06it/s]\n",
            "  0%|          | 0/1 [00:00<?, ?it/s]"
          ],
          "name": "stderr"
        },
        {
          "output_type": "stream",
          "text": [
            "======> epoch: 75/120, Loss:0.03518390655517578\n",
            "Entering Epoch:  76\n"
          ],
          "name": "stdout"
        },
        {
          "output_type": "stream",
          "text": [
            "100%|██████████| 1/1 [00:00<00:00,  1.14it/s]\n",
            "  0%|          | 0/1 [00:00<?, ?it/s]"
          ],
          "name": "stderr"
        },
        {
          "output_type": "stream",
          "text": [
            "======> epoch: 76/120, Loss:0.0350283682346344\n",
            "Entering Epoch:  77\n"
          ],
          "name": "stdout"
        },
        {
          "output_type": "stream",
          "text": [
            "100%|██████████| 1/1 [00:00<00:00,  1.11it/s]\n",
            "  0%|          | 0/1 [00:00<?, ?it/s]"
          ],
          "name": "stderr"
        },
        {
          "output_type": "stream",
          "text": [
            "======> epoch: 77/120, Loss:0.034740280359983444\n",
            "Entering Epoch:  78\n"
          ],
          "name": "stdout"
        },
        {
          "output_type": "stream",
          "text": [
            "100%|██████████| 1/1 [00:00<00:00,  1.10it/s]\n",
            "  0%|          | 0/1 [00:00<?, ?it/s]"
          ],
          "name": "stderr"
        },
        {
          "output_type": "stream",
          "text": [
            "======> epoch: 78/120, Loss:0.03462132439017296\n",
            "Entering Epoch:  79\n"
          ],
          "name": "stdout"
        },
        {
          "output_type": "stream",
          "text": [
            "100%|██████████| 1/1 [00:00<00:00,  1.14it/s]\n",
            "  0%|          | 0/1 [00:00<?, ?it/s]"
          ],
          "name": "stderr"
        },
        {
          "output_type": "stream",
          "text": [
            "======> epoch: 79/120, Loss:0.034744568169116974\n",
            "Entering Epoch:  80\n"
          ],
          "name": "stdout"
        },
        {
          "output_type": "stream",
          "text": [
            "100%|██████████| 1/1 [00:00<00:00,  1.11it/s]\n",
            "  0%|          | 0/1 [00:00<?, ?it/s]"
          ],
          "name": "stderr"
        },
        {
          "output_type": "stream",
          "text": [
            "======> epoch: 80/120, Loss:0.034913793206214905\n",
            "Entering Epoch:  81\n"
          ],
          "name": "stdout"
        },
        {
          "output_type": "stream",
          "text": [
            "100%|██████████| 1/1 [00:00<00:00,  1.08it/s]\n",
            "  0%|          | 0/1 [00:00<?, ?it/s]"
          ],
          "name": "stderr"
        },
        {
          "output_type": "stream",
          "text": [
            "======> epoch: 81/120, Loss:0.034903980791568756\n",
            "Entering Epoch:  82\n"
          ],
          "name": "stdout"
        },
        {
          "output_type": "stream",
          "text": [
            "100%|██████████| 1/1 [00:00<00:00,  1.14it/s]\n",
            "  0%|          | 0/1 [00:00<?, ?it/s]"
          ],
          "name": "stderr"
        },
        {
          "output_type": "stream",
          "text": [
            "======> epoch: 82/120, Loss:0.03473164886236191\n",
            "Entering Epoch:  83\n"
          ],
          "name": "stdout"
        },
        {
          "output_type": "stream",
          "text": [
            "100%|██████████| 1/1 [00:00<00:00,  1.17it/s]\n",
            "  0%|          | 0/1 [00:00<?, ?it/s]"
          ],
          "name": "stderr"
        },
        {
          "output_type": "stream",
          "text": [
            "======> epoch: 83/120, Loss:0.034561336040496826\n",
            "Entering Epoch:  84\n"
          ],
          "name": "stdout"
        },
        {
          "output_type": "stream",
          "text": [
            "100%|██████████| 1/1 [00:00<00:00,  1.09it/s]\n",
            "  0%|          | 0/1 [00:00<?, ?it/s]"
          ],
          "name": "stderr"
        },
        {
          "output_type": "stream",
          "text": [
            "======> epoch: 84/120, Loss:0.034556277096271515\n",
            "Entering Epoch:  85\n"
          ],
          "name": "stdout"
        },
        {
          "output_type": "stream",
          "text": [
            "100%|██████████| 1/1 [00:00<00:00,  1.10it/s]\n",
            "  0%|          | 0/1 [00:00<?, ?it/s]"
          ],
          "name": "stderr"
        },
        {
          "output_type": "stream",
          "text": [
            "======> epoch: 85/120, Loss:0.034678440541028976\n",
            "Entering Epoch:  86\n"
          ],
          "name": "stdout"
        },
        {
          "output_type": "stream",
          "text": [
            "100%|██████████| 1/1 [00:00<00:00,  1.14it/s]\n",
            "  0%|          | 0/1 [00:00<?, ?it/s]"
          ],
          "name": "stderr"
        },
        {
          "output_type": "stream",
          "text": [
            "======> epoch: 86/120, Loss:0.034794989973306656\n",
            "Entering Epoch:  87\n"
          ],
          "name": "stdout"
        },
        {
          "output_type": "stream",
          "text": [
            "100%|██████████| 1/1 [00:00<00:00,  1.13it/s]\n",
            "  0%|          | 0/1 [00:00<?, ?it/s]"
          ],
          "name": "stderr"
        },
        {
          "output_type": "stream",
          "text": [
            "======> epoch: 87/120, Loss:0.03481739014387131\n",
            "Entering Epoch:  88\n"
          ],
          "name": "stdout"
        },
        {
          "output_type": "stream",
          "text": [
            "100%|██████████| 1/1 [00:00<00:00,  1.14it/s]\n",
            "  0%|          | 0/1 [00:00<?, ?it/s]"
          ],
          "name": "stderr"
        },
        {
          "output_type": "stream",
          "text": [
            "======> epoch: 88/120, Loss:0.03468659520149231\n",
            "Entering Epoch:  89\n"
          ],
          "name": "stdout"
        },
        {
          "output_type": "stream",
          "text": [
            "100%|██████████| 1/1 [00:00<00:00,  1.16it/s]\n",
            "  0%|          | 0/1 [00:00<?, ?it/s]"
          ],
          "name": "stderr"
        },
        {
          "output_type": "stream",
          "text": [
            "======> epoch: 89/120, Loss:0.03453533351421356\n",
            "Entering Epoch:  90\n"
          ],
          "name": "stdout"
        },
        {
          "output_type": "stream",
          "text": [
            "100%|██████████| 1/1 [00:00<00:00,  1.11it/s]\n",
            "  0%|          | 0/1 [00:00<?, ?it/s]"
          ],
          "name": "stderr"
        },
        {
          "output_type": "stream",
          "text": [
            "======> epoch: 90/120, Loss:0.03448329493403435\n",
            "Entering Epoch:  91\n"
          ],
          "name": "stdout"
        },
        {
          "output_type": "stream",
          "text": [
            "100%|██████████| 1/1 [00:00<00:00,  1.08it/s]\n",
            "  0%|          | 0/1 [00:00<?, ?it/s]"
          ],
          "name": "stderr"
        },
        {
          "output_type": "stream",
          "text": [
            "======> epoch: 91/120, Loss:0.034548960626125336\n",
            "Entering Epoch:  92\n"
          ],
          "name": "stdout"
        },
        {
          "output_type": "stream",
          "text": [
            "100%|██████████| 1/1 [00:00<00:00,  1.07it/s]\n",
            "  0%|          | 0/1 [00:00<?, ?it/s]"
          ],
          "name": "stderr"
        },
        {
          "output_type": "stream",
          "text": [
            "======> epoch: 92/120, Loss:0.0346466526389122\n",
            "Entering Epoch:  93\n"
          ],
          "name": "stdout"
        },
        {
          "output_type": "stream",
          "text": [
            "100%|██████████| 1/1 [00:00<00:00,  1.06it/s]\n",
            "  0%|          | 0/1 [00:00<?, ?it/s]"
          ],
          "name": "stderr"
        },
        {
          "output_type": "stream",
          "text": [
            "======> epoch: 93/120, Loss:0.034661438316106796\n",
            "Entering Epoch:  94\n"
          ],
          "name": "stdout"
        },
        {
          "output_type": "stream",
          "text": [
            "100%|██████████| 1/1 [00:00<00:00,  1.10it/s]\n",
            "  0%|          | 0/1 [00:00<?, ?it/s]"
          ],
          "name": "stderr"
        },
        {
          "output_type": "stream",
          "text": [
            "======> epoch: 94/120, Loss:0.03458508104085922\n",
            "Entering Epoch:  95\n"
          ],
          "name": "stdout"
        },
        {
          "output_type": "stream",
          "text": [
            "100%|██████████| 1/1 [00:00<00:00,  1.10it/s]\n",
            "  0%|          | 0/1 [00:00<?, ?it/s]"
          ],
          "name": "stderr"
        },
        {
          "output_type": "stream",
          "text": [
            "======> epoch: 95/120, Loss:0.03447965160012245\n",
            "Entering Epoch:  96\n"
          ],
          "name": "stdout"
        },
        {
          "output_type": "stream",
          "text": [
            "100%|██████████| 1/1 [00:00<00:00,  1.11it/s]\n",
            "  0%|          | 0/1 [00:00<?, ?it/s]"
          ],
          "name": "stderr"
        },
        {
          "output_type": "stream",
          "text": [
            "======> epoch: 96/120, Loss:0.034450240433216095\n",
            "Entering Epoch:  97\n"
          ],
          "name": "stdout"
        },
        {
          "output_type": "stream",
          "text": [
            "100%|██████████| 1/1 [00:00<00:00,  1.13it/s]\n",
            "  0%|          | 0/1 [00:00<?, ?it/s]"
          ],
          "name": "stderr"
        },
        {
          "output_type": "stream",
          "text": [
            "======> epoch: 97/120, Loss:0.03450121730566025\n",
            "Entering Epoch:  98\n"
          ],
          "name": "stdout"
        },
        {
          "output_type": "stream",
          "text": [
            "100%|██████████| 1/1 [00:00<00:00,  1.10it/s]\n",
            "  0%|          | 0/1 [00:00<?, ?it/s]"
          ],
          "name": "stderr"
        },
        {
          "output_type": "stream",
          "text": [
            "======> epoch: 98/120, Loss:0.03456345945596695\n",
            "Entering Epoch:  99\n"
          ],
          "name": "stdout"
        },
        {
          "output_type": "stream",
          "text": [
            "100%|██████████| 1/1 [00:00<00:00,  1.15it/s]\n",
            "  0%|          | 0/1 [00:00<?, ?it/s]"
          ],
          "name": "stderr"
        },
        {
          "output_type": "stream",
          "text": [
            "======> epoch: 99/120, Loss:0.03457432985305786\n",
            "Entering Epoch:  100\n"
          ],
          "name": "stdout"
        },
        {
          "output_type": "stream",
          "text": [
            "100%|██████████| 1/1 [00:00<00:00,  1.07it/s]\n",
            "  0%|          | 0/1 [00:00<?, ?it/s]"
          ],
          "name": "stderr"
        },
        {
          "output_type": "stream",
          "text": [
            "======> epoch: 100/120, Loss:0.03450683876872063\n",
            "Entering Epoch:  101\n"
          ],
          "name": "stdout"
        },
        {
          "output_type": "stream",
          "text": [
            "100%|██████████| 1/1 [00:00<00:00,  1.10it/s]\n",
            "  0%|          | 0/1 [00:00<?, ?it/s]"
          ],
          "name": "stderr"
        },
        {
          "output_type": "stream",
          "text": [
            "======> epoch: 101/120, Loss:0.034434545785188675\n",
            "Entering Epoch:  102\n"
          ],
          "name": "stdout"
        },
        {
          "output_type": "stream",
          "text": [
            "100%|██████████| 1/1 [00:00<00:00,  1.10it/s]\n",
            "  0%|          | 0/1 [00:00<?, ?it/s]"
          ],
          "name": "stderr"
        },
        {
          "output_type": "stream",
          "text": [
            "======> epoch: 102/120, Loss:0.03441105782985687\n",
            "Entering Epoch:  103\n"
          ],
          "name": "stdout"
        },
        {
          "output_type": "stream",
          "text": [
            "100%|██████████| 1/1 [00:00<00:00,  1.12it/s]\n",
            "  0%|          | 0/1 [00:00<?, ?it/s]"
          ],
          "name": "stderr"
        },
        {
          "output_type": "stream",
          "text": [
            "======> epoch: 103/120, Loss:0.034439511597156525\n",
            "Entering Epoch:  104\n"
          ],
          "name": "stdout"
        },
        {
          "output_type": "stream",
          "text": [
            "100%|██████████| 1/1 [00:00<00:00,  1.13it/s]\n",
            "  0%|          | 0/1 [00:00<?, ?it/s]"
          ],
          "name": "stderr"
        },
        {
          "output_type": "stream",
          "text": [
            "======> epoch: 104/120, Loss:0.034490667283535004\n",
            "Entering Epoch:  105\n"
          ],
          "name": "stdout"
        },
        {
          "output_type": "stream",
          "text": [
            "100%|██████████| 1/1 [00:01<00:00,  1.16s/it]\n",
            "  0%|          | 0/1 [00:00<?, ?it/s]"
          ],
          "name": "stderr"
        },
        {
          "output_type": "stream",
          "text": [
            "======> epoch: 105/120, Loss:0.03452836722135544\n",
            "Entering Epoch:  106\n"
          ],
          "name": "stdout"
        },
        {
          "output_type": "stream",
          "text": [
            "100%|██████████| 1/1 [00:01<00:00,  1.13s/it]\n",
            "  0%|          | 0/1 [00:00<?, ?it/s]"
          ],
          "name": "stderr"
        },
        {
          "output_type": "stream",
          "text": [
            "======> epoch: 106/120, Loss:0.03453262522816658\n",
            "Entering Epoch:  107\n"
          ],
          "name": "stdout"
        },
        {
          "output_type": "stream",
          "text": [
            "100%|██████████| 1/1 [00:01<00:00,  1.14s/it]\n",
            "  0%|          | 0/1 [00:00<?, ?it/s]"
          ],
          "name": "stderr"
        },
        {
          "output_type": "stream",
          "text": [
            "======> epoch: 107/120, Loss:0.034472331404685974\n",
            "Entering Epoch:  108\n"
          ],
          "name": "stdout"
        },
        {
          "output_type": "stream",
          "text": [
            "100%|██████████| 1/1 [00:01<00:00,  1.11s/it]\n",
            "  0%|          | 0/1 [00:00<?, ?it/s]"
          ],
          "name": "stderr"
        },
        {
          "output_type": "stream",
          "text": [
            "======> epoch: 108/120, Loss:0.03440198674798012\n",
            "Entering Epoch:  109\n"
          ],
          "name": "stdout"
        },
        {
          "output_type": "stream",
          "text": [
            "100%|██████████| 1/1 [00:01<00:00,  1.03s/it]\n",
            "  0%|          | 0/1 [00:00<?, ?it/s]"
          ],
          "name": "stderr"
        },
        {
          "output_type": "stream",
          "text": [
            "======> epoch: 109/120, Loss:0.03436646610498428\n",
            "Entering Epoch:  110\n"
          ],
          "name": "stdout"
        },
        {
          "output_type": "stream",
          "text": [
            "100%|██████████| 1/1 [00:00<00:00,  1.14it/s]\n",
            "  0%|          | 0/1 [00:00<?, ?it/s]"
          ],
          "name": "stderr"
        },
        {
          "output_type": "stream",
          "text": [
            "======> epoch: 110/120, Loss:0.03438087925314903\n",
            "Entering Epoch:  111\n"
          ],
          "name": "stdout"
        },
        {
          "output_type": "stream",
          "text": [
            "100%|██████████| 1/1 [00:00<00:00,  1.12it/s]\n",
            "  0%|          | 0/1 [00:00<?, ?it/s]"
          ],
          "name": "stderr"
        },
        {
          "output_type": "stream",
          "text": [
            "======> epoch: 111/120, Loss:0.03441883251070976\n",
            "Entering Epoch:  112\n"
          ],
          "name": "stdout"
        },
        {
          "output_type": "stream",
          "text": [
            "100%|██████████| 1/1 [00:00<00:00,  1.10it/s]\n",
            "  0%|          | 0/1 [00:00<?, ?it/s]"
          ],
          "name": "stderr"
        },
        {
          "output_type": "stream",
          "text": [
            "======> epoch: 112/120, Loss:0.03444155678153038\n",
            "Entering Epoch:  113\n"
          ],
          "name": "stdout"
        },
        {
          "output_type": "stream",
          "text": [
            "100%|██████████| 1/1 [00:00<00:00,  1.08it/s]\n",
            "  0%|          | 0/1 [00:00<?, ?it/s]"
          ],
          "name": "stderr"
        },
        {
          "output_type": "stream",
          "text": [
            "======> epoch: 113/120, Loss:0.03443385288119316\n",
            "Entering Epoch:  114\n"
          ],
          "name": "stdout"
        },
        {
          "output_type": "stream",
          "text": [
            "100%|██████████| 1/1 [00:00<00:00,  1.13it/s]\n",
            "  0%|          | 0/1 [00:00<?, ?it/s]"
          ],
          "name": "stderr"
        },
        {
          "output_type": "stream",
          "text": [
            "======> epoch: 114/120, Loss:0.03439242020249367\n",
            "Entering Epoch:  115\n"
          ],
          "name": "stdout"
        },
        {
          "output_type": "stream",
          "text": [
            "100%|██████████| 1/1 [00:00<00:00,  1.14it/s]\n",
            "  0%|          | 0/1 [00:00<?, ?it/s]"
          ],
          "name": "stderr"
        },
        {
          "output_type": "stream",
          "text": [
            "======> epoch: 115/120, Loss:0.03434739261865616\n",
            "Entering Epoch:  116\n"
          ],
          "name": "stdout"
        },
        {
          "output_type": "stream",
          "text": [
            "100%|██████████| 1/1 [00:00<00:00,  1.15it/s]\n",
            "  0%|          | 0/1 [00:00<?, ?it/s]"
          ],
          "name": "stderr"
        },
        {
          "output_type": "stream",
          "text": [
            "======> epoch: 116/120, Loss:0.034320563077926636\n",
            "Entering Epoch:  117\n"
          ],
          "name": "stdout"
        },
        {
          "output_type": "stream",
          "text": [
            "100%|██████████| 1/1 [00:00<00:00,  1.11it/s]\n",
            "  0%|          | 0/1 [00:00<?, ?it/s]"
          ],
          "name": "stderr"
        },
        {
          "output_type": "stream",
          "text": [
            "======> epoch: 117/120, Loss:0.03431955724954605\n",
            "Entering Epoch:  118\n"
          ],
          "name": "stdout"
        },
        {
          "output_type": "stream",
          "text": [
            "100%|██████████| 1/1 [00:00<00:00,  1.13it/s]\n",
            "  0%|          | 0/1 [00:00<?, ?it/s]"
          ],
          "name": "stderr"
        },
        {
          "output_type": "stream",
          "text": [
            "======> epoch: 118/120, Loss:0.03433607518672943\n",
            "Entering Epoch:  119\n"
          ],
          "name": "stdout"
        },
        {
          "output_type": "stream",
          "text": [
            "100%|██████████| 1/1 [00:00<00:00,  1.15it/s]\n"
          ],
          "name": "stderr"
        },
        {
          "output_type": "stream",
          "text": [
            "======> epoch: 119/120, Loss:0.034358009696006775\n"
          ],
          "name": "stdout"
        },
        {
          "output_type": "display_data",
          "data": {
            "image/png": "[encoded data removed]",
            "text/plain": [
              "<Figure size 432x288 with 1 Axes>"
            ]
          },
          "metadata": {
            "tags": [],
            "needs_background": "light"
          }
        },
        {
          "output_type": "display_data",
          "data": {
            "image/png": "[encoded data removed]",
            "text/plain": [
              "<Figure size 1440x1440 with 18 Axes>"
            ]
          },
          "metadata": {
            "tags": [],
            "needs_background": "light"
          }
        }
      ]
    },
    {
      "cell_type": "code",
      "metadata": {
        "id": "OW9AX5v3-G4y",
        "colab_type": "code",
        "colab": {
          "base_uri": "https://localhost:8080/",
          "height": 1000
        },
        "outputId": "886eb2ad-d4d8-4d5d-913c-3790b2f12827"
      },
      "source": [
        "# -*- coding: utf-8 -*-\n",
        "\"\"\"Kopia notatnika unyeyy\n",
        "\n",
        "Automatically generated by Colaboratory.\n",
        "\n",
        "Original file is located at\n",
        "    https://colab.research.google.com/drive/1Xi42PGMMC-Q2wmVz8Stvzbq-bGTP_vo-\n",
        "\"\"\"\n",
        "\n",
        "import os\n",
        "import cv2\n",
        "import numpy as np\n",
        "from tqdm import tqdm\n",
        "import matplotlib.pyplot as plt\n",
        "import torch\n",
        "from torchvision import datasets, transforms\n",
        "import torch.nn as nn\n",
        "import torch.optim as optim\n",
        "from torch.autograd import Variable\n",
        "import random\n",
        "import natsort\n",
        "from PIL import Image\n",
        "from torch.utils.data import DataLoader, Dataset\n",
        "import torch.nn.functional as F\n",
        "\n",
        "torch.cuda.empty_cache()\n",
        "\n",
        "from google.colab import drive\n",
        "\n",
        "\n",
        "# drive.mount('/content/drive/My Drive/Interns/')\n",
        "\n",
        "class CustomDataSet(Dataset):\n",
        "    def __init__(self, noised_dir, clean_dir, transform):\n",
        "        self.noised_dir = noised_dir\n",
        "        self.clean_dir = clean_dir\n",
        "        self.transform = transform\n",
        "        noised_imgs = os.listdir(noised_dir)\n",
        "        clean_imgs = os.listdir(clean_dir)\n",
        "\n",
        "        self.noised_paths = natsort.natsorted(noised_imgs)\n",
        "        self.clean_paths = natsort.natsorted(clean_imgs)\n",
        "\n",
        "    def __len__(self):\n",
        "        assert len(self.noised_paths) == len(self.clean_paths)\n",
        "        return len(self.noised_paths)\n",
        "\n",
        "    def __getitem__(self, idx):\n",
        "        img_noised = os.path.join(self.noised_dir, self.noised_paths[idx])\n",
        "        img_clean = os.path.join(self.clean_dir, self.clean_paths[idx])\n",
        "\n",
        "        image_n = Image.open(img_noised)\n",
        "        image_c = Image.open(img_clean)\n",
        "\n",
        "        tensor_image_n = self.transform(image_n)\n",
        "        tensor_image_c = self.transform(image_c)\n",
        "        return (tensor_image_n, tensor_image_c)\n",
        "\n",
        "\n",
        "tsfms = transforms.Compose([\n",
        "    transforms.ToTensor()\n",
        "])\n",
        "# /content/drive/My Drive/stl10images/Noised_train/1\n",
        "\n",
        "# dataset = CustomDataSet(\"/content/drive/My Drive/stl10images/Noised_train/1/\",\"/content/drive/My Drive/stl10images/Clean_train/1/\",transform=tsfms)\n",
        "# dataset_test = CustomDataSet(\"/content/drive/My Drive/stl10images/test_Noised/1/\",\"/content/drive/My Drive/stl10images/test_Clean/1/\",transform=tsfms)\n",
        "dataset = CustomDataSet(\"/content/drive/My Drive/Interns/dataset/noised/\",\n",
        "                        \"/content/drive/My Drive/Interns/dataset/clean/\", transform=tsfms)\n",
        "dataset_test = CustomDataSet(\"/content/drive/My Drive/Interns/dataset/test_noised/\",\n",
        "                             \"/content/drive/My Drive/Interns/dataset/test_clean/\", transform=tsfms)\n",
        "\n",
        "train_loader = DataLoader(dataset, batch_size=16, shuffle=False,\n",
        "                          num_workers=4, drop_last=True)\n",
        "\n",
        "test_loader = DataLoader(dataset_test, batch_size=16, shuffle=False,\n",
        "                         num_workers=4, drop_last=True)\n",
        "\n",
        "\n",
        "class UNet(nn.Module):\n",
        "    def __init__(\n",
        "            self,\n",
        "            in_channels=1,\n",
        "            n_classes=2,\n",
        "            depth=5,\n",
        "            wf=6,\n",
        "            padding=False,\n",
        "            batch_norm=False,\n",
        "            up_mode='upconv',\n",
        "    ):\n",
        "        \"\"\"\n",
        "        Implementation of\n",
        "        U-Net: Convolutional Networks for Biomedical Image Segmentation\n",
        "        (Ronneberger et al., 2015)\n",
        "        https://arxiv.org/abs/1505.04597\n",
        "        Using the default arguments will yield the exact version used\n",
        "        in the original paper\n",
        "        Args:\n",
        "            in_channels (int): number of input channels\n",
        "            n_classes (int): number of output channels\n",
        "            depth (int): depth of the network\n",
        "            wf (int): number of filters in the first layer is 2**wf\n",
        "            padding (bool): if True, apply padding such that the input shape\n",
        "                            is the same as the output.\n",
        "                            This may introduce artifacts\n",
        "            batch_norm (bool): Use BatchNorm after layers with an\n",
        "                               activation function\n",
        "            up_mode (str): one of 'upconv' or 'upsample'.\n",
        "                           'upconv' will use transposed convolutions for\n",
        "                           learned upsampling.\n",
        "                           'upsample' will use bilinear upsampling.\n",
        "        \"\"\"\n",
        "        super(UNet, self).__init__()\n",
        "        assert up_mode in ('upconv', 'upsample')\n",
        "        self.padding = padding\n",
        "        self.depth = depth\n",
        "        prev_channels = in_channels\n",
        "        self.down_path = nn.ModuleList()\n",
        "        for i in range(depth):\n",
        "            self.down_path.append(\n",
        "                UNetConvBlock(prev_channels, 2 ** (wf + i), padding, batch_norm)\n",
        "            )\n",
        "            prev_channels = 2 ** (wf + i)\n",
        "\n",
        "        self.up_path = nn.ModuleList()\n",
        "        for i in reversed(range(depth - 1)):\n",
        "            self.up_path.append(\n",
        "                UNetUpBlock(prev_channels, 2 ** (wf + i), up_mode, padding, batch_norm)\n",
        "            )\n",
        "            prev_channels = 2 ** (wf + i)\n",
        "\n",
        "        self.last = nn.Conv2d(prev_channels, n_classes, kernel_size=1)\n",
        "\n",
        "    def forward(self, x):\n",
        "        blocks = []\n",
        "        for i, down in enumerate(self.down_path):\n",
        "            x = down(x)\n",
        "            if i != len(self.down_path) - 1:\n",
        "                blocks.append(x)\n",
        "                x = F.max_pool2d(x, 2)\n",
        "\n",
        "        for i, up in enumerate(self.up_path):\n",
        "            x = up(x, blocks[-i - 1])\n",
        "\n",
        "        return self.last(x)\n",
        "\n",
        "\n",
        "class UNetConvBlock(nn.Module):\n",
        "    def __init__(self, in_size, out_size, padding, batch_norm):\n",
        "        super(UNetConvBlock, self).__init__()\n",
        "        block = []\n",
        "\n",
        "        block.append(nn.Conv2d(in_size, out_size, kernel_size=3, padding=int(padding)))\n",
        "        block.append(nn.ReLU())\n",
        "        if batch_norm:\n",
        "            block.append(nn.BatchNorm2d(out_size))\n",
        "\n",
        "        block.append(nn.Conv2d(out_size, out_size, kernel_size=3, padding=int(padding)))\n",
        "        block.append(nn.ReLU())\n",
        "        if batch_norm:\n",
        "            block.append(nn.BatchNorm2d(out_size))\n",
        "\n",
        "        self.block = nn.Sequential(*block)\n",
        "\n",
        "    def forward(self, x):\n",
        "        out = self.block(x)\n",
        "        return out\n",
        "\n",
        "\n",
        "class UNetUpBlock(nn.Module):\n",
        "    def __init__(self, in_size, out_size, up_mode, padding, batch_norm):\n",
        "        super(UNetUpBlock, self).__init__()\n",
        "        if up_mode == 'upconv':\n",
        "            self.up = nn.ConvTranspose2d(in_size, out_size, kernel_size=2, stride=2)\n",
        "        elif up_mode == 'upsample':\n",
        "            self.up = nn.Sequential(\n",
        "                nn.Upsample(mode='bilinear', scale_factor=2),\n",
        "                nn.Conv2d(in_size, out_size, kernel_size=1),\n",
        "            )\n",
        "\n",
        "        self.conv_block = UNetConvBlock(in_size, out_size, padding, batch_norm)\n",
        "\n",
        "    def center_crop(self, layer, target_size):\n",
        "        _, _, layer_height, layer_width = layer.size()\n",
        "        diff_y = (layer_height - target_size[0]) // 2\n",
        "        diff_x = (layer_width - target_size[1]) // 2\n",
        "        return layer[\n",
        "               :, :, diff_y: (diff_y + target_size[0]), diff_x: (diff_x + target_size[1])\n",
        "               ]\n",
        "\n",
        "    def forward(self, x, bridge):\n",
        "        up = self.up(x)\n",
        "        crop1 = self.center_crop(bridge, up.shape[2:])\n",
        "        out = torch.cat([up, crop1], 1)\n",
        "        out = self.conv_block(out)\n",
        "\n",
        "        return out\n",
        "\n",
        "\n",
        "# for data in test_loader:\n",
        "#   print(data)\n",
        "#   break\n",
        "\n",
        "\n",
        "# dirty = data[0][0]\n",
        "# dirty=dirty.view(dirty.size(0), -1).type(torch.FloatTensor)\n",
        "# dirty = dirty.view(3, 96, 96)\n",
        "# dirty = dirty.permute(1, 2, 0).squeeze(2)\n",
        "# plt.imshow(dirty)\n",
        "# plt\n",
        "losslist = list()\n",
        "l = len(train_loader)\n",
        "running_loss = 0\n",
        "epochloss = 0\n",
        "\n",
        "device = torch.device('cuda' if torch.cuda.is_available() else 'cpu')\n",
        "model = UNet(in_channels=1, n_classes=1, padding=True, up_mode='upsample').to(device)\n",
        "optim = torch.optim.Adam(model.parameters())\n",
        "dataloader = train_loader\n",
        "epochs = 120\n",
        "criterion = nn.MSELoss()\n",
        "\n",
        "for epoch in range(epochs):\n",
        "\n",
        "    print(\"Entering Epoch: \", epoch)\n",
        "    for X, y in dataloader:\n",
        "        X = X.to(device)  # [N, 1, H, W]\n",
        "        y = y.to(device)  # [N, H, W] with class indices (0, 1)\n",
        "        prediction = model(X)  # [N, 2, H, W]\n",
        "        loss = criterion(prediction, y)\n",
        "\n",
        "        optim.zero_grad()\n",
        "        loss.backward()\n",
        "        optim.step()\n",
        "\n",
        "        running_loss += loss.item()\n",
        "        epochloss += loss.item()\n",
        "\n",
        "    losslist.append(running_loss / l)\n",
        "\n",
        "    running_loss = 0\n",
        "    print(\"======> epoch: {}/{}, Loss:{}\".format(epoch, epochs, loss.item()))\n",
        "plt.plot(range(len(losslist)), losslist)\n",
        "torch.save(model.state_dict(), \"/content/drive/My Drive/Interns/dataset/model/modelunet.pt\")\n",
        "\n",
        "# model = torch.load('/content/drive/My Drive/stl10images/modelunet.pt')\n",
        "# model = UNet()\n",
        "# model.to(device)\n",
        "# model.load_state_dict(torch.load(\"/content/drive/My Drive/stl10images/modelunet.pt\"))\n",
        "\n",
        "model.eval()\n",
        "\n",
        "# device = \"cuda:0\"\n",
        "\n",
        "# inputx = data[0][0].to(device)\n",
        "# outputx= model(data[0][0])\n",
        "\n",
        "# ctn = 0\n",
        "# for dirty, clean in test_loader:\n",
        "#   print(dirty)\n",
        "#   print(clean)\n",
        "#   ctn += 1\n",
        "#   if ctn == 6:\n",
        "#     break\n",
        "\n",
        "# dirty1 = data[0]\n",
        "# dirty1=dirty1.view(dirty.size(0), -1).type(torch.FloatTensor)\n",
        "# dirty1 = dirty1.view(3, 96, 96)\n",
        "# dirty1 = dirty1.permute(1, 2, 0).squeeze(2)\n",
        "# plt.imshow(dirty1)\n",
        "\n",
        "f, axes = plt.subplots(6, 3, figsize=(20, 20))\n",
        "axes[0, 0].set_title(\"Original Image\")\n",
        "axes[0, 1].set_title(\"Dirty Image\")\n",
        "axes[0, 2].set_title(\"Cleaned Image\")\n",
        "\n",
        "# test_imgs = np.random.randint(0, 1126, size=6)\n",
        "test_imgs = np.asarray([i for i in range(6)])\n",
        "for idx in range((6)):\n",
        "    dirty = dataset_test[test_imgs[idx]][0]\n",
        "    clean = dataset_test[test_imgs[idx]][1]\n",
        "\n",
        "    # dirty = dirty.view(dirty.size(0), -1).type(torch.FloatTensor)\n",
        "    dirty = dirty.unsqueeze(1)\n",
        "    dirty = dirty.to(device)\n",
        "\n",
        "    output = model(dirty)\n",
        "\n",
        "    output = output.view(1, 32, 32)\n",
        "    output = output.permute(1, 2, 0).squeeze(2)\n",
        "    output = output.detach().cpu().numpy()\n",
        "\n",
        "    dirty = dirty.view(1, 32, 32)\n",
        "    dirty = dirty.permute(1, 2, 0).squeeze(2)\n",
        "    dirty = dirty.detach().cpu().numpy()\n",
        "\n",
        "    clean = clean.permute(1, 2, 0).squeeze(2)\n",
        "    clean = clean.detach().cpu().numpy()\n",
        "\n",
        "    axes[idx, 0].imshow(clean, cmap=\"gray\")\n",
        "    axes[idx, 1].imshow(dirty, cmap=\"gray\")\n",
        "    axes[idx, 2].imshow(output, cmap=\"gray\")\n",
        "plt.show()\n",
        "\n",
        "\n",
        "\n",
        "\n",
        "\n",
        "\n",
        "\n",
        "\n",
        "\n"
      ],
      "execution_count": null,
      "outputs": [
        {
          "output_type": "stream",
          "text": [
            "Entering Epoch:  0\n"
          ],
          "name": "stdout"
        },
        {
          "output_type": "stream",
          "text": [
            "/usr/local/lib/python3.6/dist-packages/torch/nn/functional.py:3121: UserWarning: Default upsampling behavior when mode=bilinear is changed to align_corners=False since 0.4.0. Please specify align_corners=True if the old behavior is desired. See the documentation of nn.Upsample for details.\n",
            "  \"See the documentation of nn.Upsample for details.\".format(mode))\n"
          ],
          "name": "stderr"
        },
        {
          "output_type": "stream",
          "text": [
            "======> epoch: 0/120, Loss:0.04671502858400345\n",
            "Entering Epoch:  1\n",
            "======> epoch: 1/120, Loss:0.018771333619952202\n",
            "Entering Epoch:  2\n",
            "======> epoch: 2/120, Loss:0.009961023926734924\n",
            "Entering Epoch:  3\n",
            "======> epoch: 3/120, Loss:0.007595716044306755\n",
            "Entering Epoch:  4\n",
            "======> epoch: 4/120, Loss:0.006276765838265419\n",
            "Entering Epoch:  5\n",
            "======> epoch: 5/120, Loss:0.005781057756394148\n",
            "Entering Epoch:  6\n",
            "======> epoch: 6/120, Loss:0.005629038903862238\n",
            "Entering Epoch:  7\n",
            "======> epoch: 7/120, Loss:0.00515932310372591\n",
            "Entering Epoch:  8\n",
            "======> epoch: 8/120, Loss:0.004596347454935312\n",
            "Entering Epoch:  9\n",
            "======> epoch: 9/120, Loss:0.004244701936841011\n",
            "Entering Epoch:  10\n",
            "======> epoch: 10/120, Loss:0.0038336750585585833\n",
            "Entering Epoch:  11\n",
            "======> epoch: 11/120, Loss:0.0035797045566141605\n",
            "Entering Epoch:  12\n",
            "======> epoch: 12/120, Loss:0.0032770615071058273\n",
            "Entering Epoch:  13\n",
            "======> epoch: 13/120, Loss:0.0032224305905401707\n",
            "Entering Epoch:  14\n",
            "======> epoch: 14/120, Loss:0.0029509570449590683\n",
            "Entering Epoch:  15\n",
            "======> epoch: 15/120, Loss:0.0029030379373580217\n",
            "Entering Epoch:  16\n",
            "======> epoch: 16/120, Loss:0.0027034098748117685\n",
            "Entering Epoch:  17\n",
            "======> epoch: 17/120, Loss:0.002652693074196577\n",
            "Entering Epoch:  18\n",
            "======> epoch: 18/120, Loss:0.002516056876629591\n",
            "Entering Epoch:  19\n",
            "======> epoch: 19/120, Loss:0.0024482428561896086\n",
            "Entering Epoch:  20\n",
            "======> epoch: 20/120, Loss:0.0023725093342363834\n",
            "Entering Epoch:  21\n",
            "======> epoch: 21/120, Loss:0.002293686382472515\n",
            "Entering Epoch:  22\n",
            "======> epoch: 22/120, Loss:0.0022523165680468082\n",
            "Entering Epoch:  23\n",
            "======> epoch: 23/120, Loss:0.0021485376637429\n",
            "Entering Epoch:  24\n",
            "======> epoch: 24/120, Loss:0.0020782756619155407\n",
            "Entering Epoch:  25\n",
            "======> epoch: 25/120, Loss:0.0020139431580901146\n",
            "Entering Epoch:  26\n",
            "======> epoch: 26/120, Loss:0.0019413081463426352\n",
            "Entering Epoch:  27\n",
            "======> epoch: 27/120, Loss:0.001872360473498702\n",
            "Entering Epoch:  28\n",
            "======> epoch: 28/120, Loss:0.0018019896233454347\n",
            "Entering Epoch:  29\n",
            "======> epoch: 29/120, Loss:0.0017436775378882885\n",
            "Entering Epoch:  30\n",
            "======> epoch: 30/120, Loss:16.270784378051758\n",
            "Entering Epoch:  31\n",
            "======> epoch: 31/120, Loss:0.2515166401863098\n",
            "Entering Epoch:  32\n",
            "======> epoch: 32/120, Loss:0.24816776812076569\n",
            "Entering Epoch:  33\n",
            "======> epoch: 33/120, Loss:0.06852716207504272\n",
            "Entering Epoch:  34\n",
            "======> epoch: 34/120, Loss:0.06224263086915016\n",
            "Entering Epoch:  35\n",
            "======> epoch: 35/120, Loss:0.05559808760881424\n",
            "Entering Epoch:  36\n",
            "======> epoch: 36/120, Loss:0.059000685811042786\n",
            "Entering Epoch:  37\n",
            "======> epoch: 37/120, Loss:0.0995808094739914\n",
            "Entering Epoch:  38\n",
            "======> epoch: 38/120, Loss:0.053277451545000076\n",
            "Entering Epoch:  39\n",
            "======> epoch: 39/120, Loss:0.05099666863679886\n",
            "Entering Epoch:  40\n",
            "======> epoch: 40/120, Loss:0.05109543725848198\n",
            "Entering Epoch:  41\n",
            "======> epoch: 41/120, Loss:0.050639696419239044\n",
            "Entering Epoch:  42\n",
            "======> epoch: 42/120, Loss:0.050622083246707916\n",
            "Entering Epoch:  43\n",
            "======> epoch: 43/120, Loss:0.05074992775917053\n",
            "Entering Epoch:  44\n",
            "======> epoch: 44/120, Loss:0.05065743252635002\n",
            "Entering Epoch:  45\n",
            "======> epoch: 45/120, Loss:0.05117985978722572\n",
            "Entering Epoch:  46\n",
            "======> epoch: 46/120, Loss:0.05157258361577988\n",
            "Entering Epoch:  47\n",
            "======> epoch: 47/120, Loss:0.05122591555118561\n",
            "Entering Epoch:  48\n",
            "======> epoch: 48/120, Loss:0.05061063915491104\n",
            "Entering Epoch:  49\n",
            "======> epoch: 49/120, Loss:0.0503620021045208\n",
            "Entering Epoch:  50\n",
            "======> epoch: 50/120, Loss:0.05028337612748146\n",
            "Entering Epoch:  51\n",
            "======> epoch: 51/120, Loss:0.05018075928092003\n",
            "Entering Epoch:  52\n",
            "======> epoch: 52/120, Loss:0.05009415000677109\n",
            "Entering Epoch:  53\n",
            "======> epoch: 53/120, Loss:0.05000978708267212\n",
            "Entering Epoch:  54\n",
            "======> epoch: 54/120, Loss:0.049926839768886566\n",
            "Entering Epoch:  55\n",
            "======> epoch: 55/120, Loss:0.049696166068315506\n",
            "Entering Epoch:  56\n",
            "======> epoch: 56/120, Loss:0.049299292266368866\n",
            "Entering Epoch:  57\n",
            "======> epoch: 57/120, Loss:0.04115692526102066\n",
            "Entering Epoch:  58\n",
            "======> epoch: 58/120, Loss:0.037176840007305145\n",
            "Entering Epoch:  59\n",
            "======> epoch: 59/120, Loss:0.03377142548561096\n",
            "Entering Epoch:  60\n",
            "======> epoch: 60/120, Loss:0.03258753567934036\n",
            "Entering Epoch:  61\n",
            "======> epoch: 61/120, Loss:0.03054649941623211\n",
            "Entering Epoch:  62\n",
            "======> epoch: 62/120, Loss:0.0293564572930336\n",
            "Entering Epoch:  63\n",
            "======> epoch: 63/120, Loss:0.03056447207927704\n",
            "Entering Epoch:  64\n",
            "======> epoch: 64/120, Loss:0.028497280552983284\n",
            "Entering Epoch:  65\n",
            "======> epoch: 65/120, Loss:0.028466716408729553\n",
            "Entering Epoch:  66\n",
            "======> epoch: 66/120, Loss:0.028756873682141304\n",
            "Entering Epoch:  67\n",
            "======> epoch: 67/120, Loss:0.029289739206433296\n",
            "Entering Epoch:  68\n",
            "======> epoch: 68/120, Loss:0.02834838628768921\n",
            "Entering Epoch:  69\n",
            "======> epoch: 69/120, Loss:0.02643299102783203\n",
            "Entering Epoch:  70\n",
            "======> epoch: 70/120, Loss:0.0263228677213192\n",
            "Entering Epoch:  71\n",
            "======> epoch: 71/120, Loss:0.025664357468485832\n",
            "Entering Epoch:  72\n",
            "======> epoch: 72/120, Loss:0.025012530386447906\n",
            "Entering Epoch:  73\n",
            "======> epoch: 73/120, Loss:0.024308957159519196\n",
            "Entering Epoch:  74\n",
            "======> epoch: 74/120, Loss:0.023890307173132896\n",
            "Entering Epoch:  75\n",
            "======> epoch: 75/120, Loss:0.025082163512706757\n",
            "Entering Epoch:  76\n",
            "======> epoch: 76/120, Loss:0.022947780787944794\n",
            "Entering Epoch:  77\n",
            "======> epoch: 77/120, Loss:0.022219570353627205\n",
            "Entering Epoch:  78\n",
            "======> epoch: 78/120, Loss:0.022829759865999222\n",
            "Entering Epoch:  79\n",
            "======> epoch: 79/120, Loss:0.02167322114109993\n",
            "Entering Epoch:  80\n",
            "======> epoch: 80/120, Loss:0.020957430824637413\n",
            "Entering Epoch:  81\n",
            "======> epoch: 81/120, Loss:0.021148521453142166\n",
            "Entering Epoch:  82\n",
            "======> epoch: 82/120, Loss:0.021958112716674805\n",
            "Entering Epoch:  83\n",
            "======> epoch: 83/120, Loss:0.02217218652367592\n",
            "Entering Epoch:  84\n",
            "======> epoch: 84/120, Loss:0.02037990093231201\n",
            "Entering Epoch:  85\n",
            "======> epoch: 85/120, Loss:0.020733501762151718\n",
            "Entering Epoch:  86\n",
            "======> epoch: 86/120, Loss:0.020224686712026596\n",
            "Entering Epoch:  87\n",
            "======> epoch: 87/120, Loss:0.019809935241937637\n",
            "Entering Epoch:  88\n",
            "======> epoch: 88/120, Loss:0.0194636769592762\n",
            "Entering Epoch:  89\n",
            "======> epoch: 89/120, Loss:0.0193511750549078\n",
            "Entering Epoch:  90\n",
            "======> epoch: 90/120, Loss:0.01918547973036766\n",
            "Entering Epoch:  91\n",
            "======> epoch: 91/120, Loss:0.01906678080558777\n",
            "Entering Epoch:  92\n",
            "======> epoch: 92/120, Loss:0.018842214718461037\n",
            "Entering Epoch:  93\n",
            "======> epoch: 93/120, Loss:0.01884368434548378\n",
            "Entering Epoch:  94\n",
            "======> epoch: 94/120, Loss:0.019581714645028114\n",
            "Entering Epoch:  95\n",
            "======> epoch: 95/120, Loss:0.019285494461655617\n",
            "Entering Epoch:  96\n",
            "======> epoch: 96/120, Loss:0.01978478394448757\n",
            "Entering Epoch:  97\n",
            "======> epoch: 97/120, Loss:0.018015500158071518\n",
            "Entering Epoch:  98\n",
            "======> epoch: 98/120, Loss:0.017528453841805458\n",
            "Entering Epoch:  99\n",
            "======> epoch: 99/120, Loss:0.016965050250291824\n",
            "Entering Epoch:  100\n",
            "======> epoch: 100/120, Loss:0.016342682763934135\n",
            "Entering Epoch:  101\n",
            "======> epoch: 101/120, Loss:0.01579940691590309\n",
            "Entering Epoch:  102\n",
            "======> epoch: 102/120, Loss:0.015200475230813026\n",
            "Entering Epoch:  103\n",
            "======> epoch: 103/120, Loss:0.014493492431938648\n",
            "Entering Epoch:  104\n",
            "======> epoch: 104/120, Loss:0.013703709468245506\n",
            "Entering Epoch:  105\n",
            "======> epoch: 105/120, Loss:0.012234373949468136\n",
            "Entering Epoch:  106\n",
            "======> epoch: 106/120, Loss:0.01153821311891079\n",
            "Entering Epoch:  107\n",
            "======> epoch: 107/120, Loss:0.009125499054789543\n",
            "Entering Epoch:  108\n",
            "======> epoch: 108/120, Loss:0.007766671013087034\n",
            "Entering Epoch:  109\n",
            "======> epoch: 109/120, Loss:0.0073309727013111115\n",
            "Entering Epoch:  110\n",
            "======> epoch: 110/120, Loss:0.0069626676850020885\n",
            "Entering Epoch:  111\n",
            "======> epoch: 111/120, Loss:0.006668781396001577\n",
            "Entering Epoch:  112\n",
            "======> epoch: 112/120, Loss:0.006454032845795155\n",
            "Entering Epoch:  113\n",
            "======> epoch: 113/120, Loss:0.006272067315876484\n",
            "Entering Epoch:  114\n",
            "======> epoch: 114/120, Loss:0.006117059383541346\n",
            "Entering Epoch:  115\n",
            "======> epoch: 115/120, Loss:0.005971532315015793\n",
            "Entering Epoch:  116\n",
            "======> epoch: 116/120, Loss:0.005842640995979309\n",
            "Entering Epoch:  117\n",
            "======> epoch: 117/120, Loss:0.00571522768586874\n",
            "Entering Epoch:  118\n",
            "======> epoch: 118/120, Loss:0.005595439113676548\n",
            "Entering Epoch:  119\n",
            "======> epoch: 119/120, Loss:0.005484548397362232\n"
          ],
          "name": "stdout"
        },
        {
          "output_type": "display_data",
          "data": {
            "image/png": "[encoded data removed]",
            "text/plain": [
              "<Figure size 432x288 with 1 Axes>"
            ]
          },
          "metadata": {
            "tags": [],
            "needs_background": "light"
          }
        },
        {
          "output_type": "display_data",
          "data": {
            "image/png": "[encoded data removed]",
            "text/plain": [
              "<Figure size 1440x1440 with 18 Axes>"
            ]
          },
          "metadata": {
            "tags": [],
            "needs_background": "light"
          }
        }
      ]
    }
  ]
}