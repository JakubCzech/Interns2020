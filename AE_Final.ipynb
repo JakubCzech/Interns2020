{
  "nbformat": 4,
  "nbformat_minor": 0,
  "metadata": {
    "colab": {
      "name": "AE_Final.ipynb",
      "provenance": [],
      "collapsed_sections": [],
      "authorship_tag": "ABX9TyOYC6tiPba8CgsMvpKxakQU",
      "include_colab_link": true
    },
    "kernelspec": {
      "name": "python3",
      "display_name": "Python 3"
    },
    "accelerator": "GPU"
  },
  "cells": [
    {
      "cell_type": "markdown",
      "metadata": {
        "id": "view-in-github",
        "colab_type": "text"
      },
      "source": [
        "<a href=\"https://colab.research.google.com/github/JakubCzech/Interns2020/blob/master/AE_Final.ipynb\" target=\"_parent\"><img src=\"https://colab.research.google.com/assets/colab-badge.svg\" alt=\"Open In Colab\"/></a>"
      ]
    },
    {
      "cell_type": "code",
      "metadata": {
        "id": "mxV0Hk8An-FZ",
        "colab_type": "code",
        "colab": {}
      },
      "source": [
        "import numpy as np\n",
        "from keras.datasets import cifar10\n",
        "import matplotlib.pyplot as plt\n",
        "from tensorflow.keras.layers import Conv2D, Input, Dense, Reshape, Conv2DTranspose,\\\n",
        "   Activation, BatchNormalization, ReLU, Concatenate\n",
        "from tensorflow.keras.models import Model\n",
        "from tensorflow.keras.callbacks import ModelCheckpoint"
      ],
      "execution_count": 1,
      "outputs": []
    },
    {
      "cell_type": "code",
      "metadata": {
        "id": "GwuRx3cjoCJF",
        "colab_type": "code",
        "colab": {}
      },
      "source": [
        "def add_noise_and_clip_data(data):\n",
        "   noise = np.random.normal(loc=0.0, scale=0.1, size=data.shape)\n",
        "   data = data + noise\n",
        "   data = np.clip(data, 0., 1.)\n",
        "   return data\n",
        "def conv_block(x, filters, kernel_size, strides=2):\n",
        "   x = Conv2D(filters=filters,\n",
        "              kernel_size=kernel_size,\n",
        "              strides=strides,\n",
        "              padding='same')(x)\n",
        "   x = BatchNormalization()(x)\n",
        "   x = ReLU()(x)\n",
        "   return x\n",
        "def deconv_block(x, filters, kernel_size):\n",
        "   x = Conv2DTranspose(filters=filters,\n",
        "                       kernel_size=kernel_size,\n",
        "                       strides=2,\n",
        "                       padding='same')(x)\n",
        "   x = BatchNormalization()(x)\n",
        "   x = ReLU()(x)\n",
        "   return x\n",
        "def denoising_autoencoder():\n",
        "   dae_inputs = Input(shape=(32, 32, 3), name='dae_input')\n",
        "   conv_block1 = conv_block(dae_inputs, 32, 3)\n",
        "   conv_block2 = conv_block(conv_block1, 64, 3)\n",
        "   conv_block3 = conv_block(conv_block2, 128, 3)\n",
        "   conv_block4 = conv_block(conv_block3, 256, 3)\n",
        "   conv_block5 = conv_block(conv_block4, 256, 3, 1)\n",
        "\n",
        "\n",
        "   deconv_block1 = deconv_block(conv_block5, 256, 3)\n",
        "   merge1 = Concatenate()([deconv_block1, conv_block3])\n",
        "   deconv_block2 = deconv_block(merge1, 128, 3)\n",
        "   merge2 = Concatenate()([deconv_block2, conv_block2])\n",
        "   deconv_block3 = deconv_block(merge2, 64, 3)\n",
        "   merge3 = Concatenate()([deconv_block3, conv_block1])\n",
        "   deconv_block4 = deconv_block(merge3, 32, 3)\n",
        "\n",
        "   final_deconv = Conv2DTranspose(filters=3,\n",
        "                                 kernel_size=3,\n",
        "                                  padding='same')(deconv_block4)\n",
        "\n",
        "   dae_outputs = Activation('sigmoid', name='dae_output')(final_deconv)\n",
        "\n",
        "   return Model(dae_inputs, dae_outputs, name='dae')"
      ],
      "execution_count": 2,
      "outputs": []
    },
    {
      "cell_type": "code",
      "metadata": {
        "id": "d_5H13vSn26n",
        "colab_type": "code",
        "colab": {
          "base_uri": "https://localhost:8080/",
          "height": 67
        },
        "outputId": "85029377-08c3-4d03-b628-383ddf19f234"
      },
      "source": [
        "\n",
        "# ładowanie bazy\n",
        "(train_data_clean, _), (test_data_clean, _) = cifar10.load_data()\n",
        "# konwersja na float\n",
        "train_data_clean = train_data_clean.astype('float32') / 255.\n",
        "test_data_clean = test_data_clean.astype('float32') / 255.\n",
        "# dodanie szumów\n",
        "train_data_noisy = add_noise_and_clip_data(train_data_clean)\n",
        "test_data_noisy = add_noise_and_clip_data(test_data_clean)\n",
        "# trenowanie modelu\n",
        "dae = denoising_autoencoder()\n",
        "dae.compile(loss='mse', optimizer='adam')\n",
        "\n",
        "checkpoint = ModelCheckpoint('best_model.h5', verbose=1, save_best_only=True, save_weights_only=True)\n",
        "\n",
        "\n",
        "dae.fit(train_data_noisy,\n",
        "       train_data_clean,\n",
        "       validation_data=(test_data_noisy, test_data_clean),epochs=40,batch_size=128,callbacks=[checkpoint])\n",
        "dae.load_weights('best_model.h5')\n",
        "test_data_denoised = dae.predict(test_data_noisy)\n"
      ],
      "execution_count": null,
      "outputs": [
        {
          "output_type": "stream",
          "text": [
            "Downloading data from https://www.cs.toronto.edu/~kriz/cifar-10-python.tar.gz\n",
            "170500096/170498071 [==============================] - 6s 0us/step\n",
            "Epoch 1/40\n"
          ],
          "name": "stdout"
        }
      ]
    },
    {
      "cell_type": "code",
      "metadata": {
        "id": "xvgy1u1gn7YR",
        "colab_type": "code",
        "colab": {}
      },
      "source": [
        "\n",
        "idx = 8\n",
        "plt.subplot(3,3,1)\n",
        "plt.imshow(test_data_clean[idx])\n",
        "plt.title('Original')\n",
        "plt.subplot(3,3,2)\n",
        "plt.imshow(test_data_noisy[idx])\n",
        "plt.title('Noised')\n",
        "plt.subplot(3,3,3)\n",
        "plt.imshow(test_data_denoised[idx])\n",
        "plt.title('Denoised')\n",
        "\n",
        "plt.subplot(3,3,4)\n",
        "plt.imshow(test_data_clean[idx*2])\n",
        "plt.title('Original')\n",
        "plt.subplot(3,3,5)\n",
        "plt.imshow(test_data_noisy[idx*2])\n",
        "plt.title('Noised')\n",
        "plt.subplot(3,3,6)\n",
        "plt.imshow(test_data_denoised[idx*2])\n",
        "plt.title('Denoised')\n",
        "\n",
        "plt.subplot(3,3,7)\n",
        "plt.imshow(test_data_clean[idx*3])\n",
        "plt.title('Original')\n",
        "plt.subplot(3,3,8)\n",
        "plt.imshow(test_data_noisy[idx*2])\n",
        "plt.title('Noised')\n",
        "plt.subplot(3,3,9)\n",
        "plt.imshow(test_data_denoised[idx*2])\n",
        "plt.title('Denoised')\n",
        "plt.show()"
      ],
      "execution_count": null,
      "outputs": []
    }
  ]
}